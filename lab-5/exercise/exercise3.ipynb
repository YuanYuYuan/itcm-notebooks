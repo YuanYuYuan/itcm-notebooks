{
 "cells": [
  {
   "cell_type": "markdown",
   "metadata": {
    "nbgrader": {
     "grade": false,
     "grade_id": "cell-8c0898d088432222",
     "locked": true,
     "points": 12,
     "schema_version": 3,
     "solution": false,
     "task": true
    }
   },
   "source": [
    "# Exercise 3\n",
    "---\n",
    "### Analyse the convergence properties of the Jacobi and Gauss-Seidel methods for the solution of a linear system whose matrix is\n",
    "### $$\\left[\\begin{matrix}\n",
    "    \\alpha &&0 &&1\\\\\n",
    "    0 &&\\alpha &&0\\\\\n",
    "    1 &&0 &&\\alpha\n",
    "    \\end{matrix}\\right],\n",
    "    \\quad \\quad\n",
    "    \\alpha \\in \\mathbb{R}.$$"
   ]
  },
  {
   "cell_type": "markdown",
   "metadata": {},
   "source": [
    "> Please write down your analysis in detail with LaTeX/Markdown at here. And if you need to do some numerical experiments, you can add more blocks to test your codes at below."
   ]
  }
 ],
 "metadata": {
  "celltoolbar": "Create Assignment",
  "kernelspec": {
   "display_name": "Python 3",
   "language": "python",
   "name": "python3"
  },
  "language_info": {
   "codemirror_mode": {
    "name": "ipython",
    "version": 3
   },
   "file_extension": ".py",
   "mimetype": "text/x-python",
   "name": "python",
   "nbconvert_exporter": "python",
   "pygments_lexer": "ipython3",
   "version": "3.8.0"
  }
 },
 "nbformat": 4,
 "nbformat_minor": 2
}
