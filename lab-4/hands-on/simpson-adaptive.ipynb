{
 "cells": [
  {
   "cell_type": "markdown",
   "metadata": {
    "deletable": false,
    "editable": false,
    "nbgrader": {
     "cell_type": "markdown",
     "checksum": "2b6dde5ed59677696a4a8fe6bc6a8e4b",
     "grade": false,
     "grade_id": "cell-794b36f0ce5ea56d",
     "locked": true,
     "schema_version": 3,
     "solution": false,
     "task": false
    }
   },
   "source": [
    "# Numerical Integration: Simpson Adaptive Integration\n",
    "\n",
    "---\n",
    "\n",
    "## Adaptive Simpson's method, also called adaptive Simpson's rule, is a method of numerical integration proposed by G.F. Kuncir in 1962.\n",
    "\n",
    "<img src=\"http://terpconnect.umd.edu/~petersd/460/html/adapt_test_01.png\" width=500>\n",
    "\n",
    "## The idea of adaptive quadrature is largely motivated by the following question: Can we minimise the computational cost/function evaluation such that the approximation is within a given tolerance?"
   ]
  },
  {
   "cell_type": "markdown",
   "metadata": {
    "deletable": false,
    "editable": false,
    "nbgrader": {
     "cell_type": "markdown",
     "checksum": "e816e048e18611eb46f3c5146f3b155c",
     "grade": false,
     "grade_id": "cell-3fb498c59d6afd7c",
     "locked": true,
     "schema_version": 3,
     "solution": false,
     "task": false
    }
   },
   "source": [
    "---\n",
    "## How to implement this idea?\n",
    "\n",
    "### Consider the function $f$ is continuous on the intervals $[a,\\,b]$.\n",
    "### Let $S(a,b)$ be the Simpson value on the interval $[a,\\,b]$, then the error is $\\left| S(a,b) - \\left[ S(a, \\frac{a + b}{2}) + S(\\frac{a + b}{2}, b) \\right] \\right|$.\n",
    "\n",
    "### If error $< \\varepsilon$, then we can use the Simpson value to aprroximate the integral of $f$.\n",
    "### $$\\int_a^b\\,f(x)\\,dx \\approx S(a,b)$$\n",
    "\n",
    "### If NOT, then we divide the interval $[a,\\,b]$ into the sub-intervals $\\left[a, \\frac{a + b}{2}\\right]$ and $\\left[\\frac{a + b}{2}, b\\right]$ to approximate the integral of $f$.\n",
    "### $$\\int_a^b\\,f(x)\\,dx \\approx S(a, \\frac{a + b}{2}) + S(\\frac{a + b}{2}, b)$$\n",
    "### Until the error is less than $\\varepsilon$."
   ]
  },
  {
   "cell_type": "markdown",
   "metadata": {
    "deletable": false,
    "editable": false,
    "nbgrader": {
     "cell_type": "markdown",
     "checksum": "e3834ec9ff195ecd3cd7059d8e0cccfb",
     "grade": false,
     "grade_id": "cell-7d3b2e982d6b8e67",
     "locked": true,
     "schema_version": 3,
     "solution": false,
     "task": false
    }
   },
   "source": [
    "---\n",
    "## Error Estimate\n",
    "\n",
    "### Let $S_N(f)$ denote Simpson's rule\n",
    "### $$S_N(f) = \\frac{\\Delta x}{6}\\,\\sum_{i=1}^{N}\\,(f(x_{i - 1}) + 4f(\\frac{x_i - x_{i - 1}}{2}) + f(x_{i}))$$\n",
    "### where $N$ is a positive integer number of sub-intervals of $[a,\\,b],\\,\\Delta x = \\frac{b - a}{N}$ and $x_i = a + i \\Delta x$.\n",
    "\n",
    "### Let $T_N(f)$ denote trapezoid rule\n",
    "### $$T_N(f) = \\frac{\\Delta x}{2} \\sum_{i = 1}^N (f(x_i) + f(x_{i-1}))$$\n",
    "### where $\\Delta x = \\frac{b - a}{N}$ is the length of the sub-intervals and $x_i = a + i\\,\\Delta x$.\n",
    "\n",
    "### Then simpson formula resulting from one level of extrapolation from trapezoid estimates:\n",
    "### $$S_{2N}(f) = \\frac{1}{3}\\left[4T_{2N}(f) - T_{N}(f) \\right].$$\n",
    "\n",
    "### We expect this method to be fourth-order accrate, i.e.,\n",
    "### $$\\int_a^b\\,f(x)\\,dx = S_{2N}(f) + O(N^{-4}),$$\n",
    "\n",
    "### We can further extrapolate to six-order accuracy,\n",
    "### $$R_{4N}(f) = \\frac{1}{15} \\left[ 16 S_{4N}(f) - S_{2N}(f) \\right].$$\n",
    "\n",
    "### By virtue of higher order of accuracy, $R_{4N}(f)$ should be more accurate than $S_{4N}(f)$.\n",
    "### Hence a decent estimate of the error, $E$, in the better of the two Simpson values is\n",
    "### $$E = R_{4N}(f) - S_{4N}(f) = \\frac{S_{4N}(f) - S_{2N}(f)}{15}.$$"
   ]
  },
  {
   "cell_type": "markdown",
   "metadata": {
    "deletable": false,
    "editable": false,
    "nbgrader": {
     "cell_type": "markdown",
     "checksum": "a39f185e2c240b9121985e5c7c9cef23",
     "grade": false,
     "grade_id": "cell-8662a4b4dcfb2f3d",
     "locked": true,
     "schema_version": 3,
     "solution": false,
     "task": false
    }
   },
   "source": [
    "---\n",
    "## Prerequisites\n",
    "\n",
    "### 1. The integrand function $f(x)$.\n",
    "### 2. The interval $[a,\\,b]$.\n",
    "### 3.  The acceptable error."
   ]
  },
  {
   "cell_type": "markdown",
   "metadata": {
    "deletable": false,
    "editable": false,
    "nbgrader": {
     "cell_type": "markdown",
     "checksum": "ad13314b205b7f550bc9c68ac9543439",
     "grade": false,
     "grade_id": "cell-f982b45bfae55f30",
     "locked": true,
     "schema_version": 3,
     "solution": false,
     "task": false
    }
   },
   "source": [
    "---\n",
    "## Implementation"
   ]
  },
  {
   "cell_type": "markdown",
   "metadata": {
    "deletable": false,
    "editable": false,
    "nbgrader": {
     "cell_type": "markdown",
     "checksum": "308e8d3763f1c2332347cf4aeafbc345",
     "grade": false,
     "grade_id": "cell-e05e0174e2ee0417",
     "locked": true,
     "schema_version": 3,
     "solution": false,
     "task": false
    }
   },
   "source": [
    "### Part 0. Import necessary libraries"
   ]
  },
  {
   "cell_type": "code",
   "execution_count": null,
   "metadata": {
    "deletable": false,
    "editable": false,
    "nbgrader": {
     "cell_type": "code",
     "checksum": "6bab6a80cfcc0a7f0af05c8e28b9bc42",
     "grade": false,
     "grade_id": "cell-300d05a56e770ff5",
     "locked": true,
     "schema_version": 3,
     "solution": false,
     "task": false
    }
   },
   "outputs": [],
   "source": [
    "import numpy as np\n",
    "import matplotlib.pyplot as plt"
   ]
  },
  {
   "cell_type": "markdown",
   "metadata": {
    "deletable": false,
    "editable": false,
    "nbgrader": {
     "cell_type": "markdown",
     "checksum": "694d057119fbe375a66c173a64b411c1",
     "grade": false,
     "grade_id": "cell-15dbe8fc74ad9b3a",
     "locked": true,
     "schema_version": 3,
     "solution": false,
     "task": false
    }
   },
   "source": [
    "### Part 1. Implement Simpson Adaptive Integration"
   ]
  },
  {
   "cell_type": "code",
   "execution_count": null,
   "metadata": {
    "deletable": false,
    "nbgrader": {
     "cell_type": "code",
     "checksum": "1c003ba35725eb43277bbb965244c33b",
     "grade": false,
     "grade_id": "cell-b18a52f2a166f52b",
     "locked": false,
     "schema_version": 3,
     "solution": true,
     "task": false
    }
   },
   "outputs": [],
   "source": [
    "# ===== 請實做程式 =====\n",
    "\n",
    "# ===================="
   ]
  },
  {
   "cell_type": "markdown",
   "metadata": {
    "deletable": false,
    "editable": false,
    "nbgrader": {
     "cell_type": "markdown",
     "checksum": "2b4b596e5da17602f5c913455045e195",
     "grade": false,
     "grade_id": "cell-808c675134c70fad",
     "locked": true,
     "schema_version": 3,
     "solution": false,
     "task": false
    }
   },
   "source": [
    "---\n",
    "## Example\n",
    "\n",
    "## 1. Compute the function on integrals for which we know the exact value.\n",
    "### $$\\int_0^{\\pi/2}\\,\\sin x\\,dx = 1$$"
   ]
  },
  {
   "cell_type": "code",
   "execution_count": null,
   "metadata": {
    "deletable": false,
    "editable": false,
    "nbgrader": {
     "cell_type": "code",
     "checksum": "21f72b84e8cd08f90c830664ee4c74b2",
     "grade": false,
     "grade_id": "cell-fe64262ee6593e57",
     "locked": true,
     "schema_version": 3,
     "solution": false,
     "task": false
    }
   },
   "outputs": [],
   "source": [
    "approximation, nodes = simpson_adaptive(np.sin, 0, np.pi/2)\n",
    "print('The approximate value is', approximation)\n",
    "# print('All nodes are', nodes)\n",
    "print('The number of nodes is', len(nodes))"
   ]
  },
  {
   "cell_type": "markdown",
   "metadata": {
    "deletable": false,
    "editable": false,
    "nbgrader": {
     "cell_type": "markdown",
     "checksum": "b2aaf5642aa051808a20d25c9169bdaa",
     "grade": false,
     "grade_id": "cell-bda6f52b342eddf7",
     "locked": true,
     "schema_version": 3,
     "solution": false,
     "task": false
    }
   },
   "source": [
    "### Error "
   ]
  },
  {
   "cell_type": "code",
   "execution_count": null,
   "metadata": {
    "deletable": false,
    "editable": false,
    "nbgrader": {
     "cell_type": "code",
     "checksum": "f6e7f2b639506c1ecb61e50c9a2f2603",
     "grade": false,
     "grade_id": "cell-1c90eb507283185c",
     "locked": true,
     "schema_version": 3,
     "solution": false,
     "task": false
    }
   },
   "outputs": [],
   "source": [
    "error = abs(approximation - 1)\n",
    "print('The error is', error)"
   ]
  },
  {
   "cell_type": "markdown",
   "metadata": {
    "deletable": false,
    "editable": false,
    "nbgrader": {
     "cell_type": "markdown",
     "checksum": "9b7f9851e79d84737b825e9d19b1ca1e",
     "grade": false,
     "grade_id": "cell-e652768693ba0eb3",
     "locked": true,
     "schema_version": 3,
     "solution": false,
     "task": false
    }
   },
   "source": [
    "## 2. Approximate  $\\ln 2$\n",
    "### Find a value $N$ which guarantees that Simpson adaptive approximation of the integral\n",
    "### $$\\int_1^2\\,\\frac{1}{x}\\,dx$$"
   ]
  },
  {
   "cell_type": "code",
   "execution_count": null,
   "metadata": {
    "deletable": false,
    "editable": false,
    "nbgrader": {
     "cell_type": "code",
     "checksum": "1f802df2dd537bf3003afbfad4fb51b8",
     "grade": false,
     "grade_id": "cell-0f79b8e363aa3894",
     "locked": true,
     "schema_version": 3,
     "solution": false,
     "task": false
    }
   },
   "outputs": [],
   "source": [
    "approximation, nodes = simpson_adaptive(lambda x : 1/x, 1, 2, 0.0001)\n",
    "print('The approximate value is', approximation)\n",
    "print('All nodes are', nodes)\n",
    "print('The number of nodes is', len(nodes))"
   ]
  },
  {
   "cell_type": "markdown",
   "metadata": {
    "deletable": false,
    "editable": false,
    "nbgrader": {
     "cell_type": "markdown",
     "checksum": "86ea67902eee6886de098aa87e5705cd",
     "grade": false,
     "grade_id": "cell-a8c90432faad5e1a",
     "locked": true,
     "schema_version": 3,
     "solution": false,
     "task": false
    }
   },
   "source": [
    "### Error"
   ]
  },
  {
   "cell_type": "code",
   "execution_count": null,
   "metadata": {
    "deletable": false,
    "editable": false,
    "nbgrader": {
     "cell_type": "code",
     "checksum": "17bd28ea46b1740c561a17056c065010",
     "grade": false,
     "grade_id": "cell-991701fa51178392",
     "locked": true,
     "schema_version": 3,
     "solution": false,
     "task": false
    }
   },
   "outputs": [],
   "source": [
    "error = abs(approximation - np.log(2))\n",
    "print('The error is', error)"
   ]
  },
  {
   "cell_type": "markdown",
   "metadata": {
    "deletable": false,
    "editable": false,
    "nbgrader": {
     "cell_type": "markdown",
     "checksum": "c950b90ad79b1d19bae3124e1131d6e9",
     "grade": false,
     "grade_id": "cell-a154d6e2623ad1c6",
     "locked": true,
     "schema_version": 3,
     "solution": false,
     "task": false
    }
   },
   "source": [
    "# End"
   ]
  }
 ],
 "metadata": {
  "kernelspec": {
   "display_name": "Python 3",
   "language": "python",
   "name": "python3"
  },
  "language_info": {
   "codemirror_mode": {
    "name": "ipython",
    "version": 3
   },
   "file_extension": ".py",
   "mimetype": "text/x-python",
   "name": "python",
   "nbconvert_exporter": "python",
   "pygments_lexer": "ipython3",
   "version": "3.7.4"
  }
 },
 "nbformat": 4,
 "nbformat_minor": 2
}
