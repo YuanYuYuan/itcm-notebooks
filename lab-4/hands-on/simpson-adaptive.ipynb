{
 "cells": [
  {
   "cell_type": "markdown",
   "metadata": {},
   "source": [
    "# Numerical Integration: Simpson Adaptive Integration\n",
    "\n",
    "---\n",
    "\n",
    "## Adaptive Simpson's method, also called adaptive Simpson's rule, is a method of numerical integration proposed by G.F. Kuncir in 1962.\n",
    "\n",
    "<img src=\"http://terpconnect.umd.edu/~petersd/460/html/adapt_test_01.png\" width=500>\n",
    "\n",
    "## The idea of adaptive quadrature is largely motivated by the following question: Can we minimise the computational cost/function evaluation such that the approximation is within a given tolerance?"
   ]
  },
  {
   "cell_type": "markdown",
   "metadata": {},
   "source": [
    "---\n",
    "## How to implement this idea?\n",
    "\n",
    "### Consider the function $f$ is continuous on the intervals $[a,\\,b]$.\n",
    "### Let $S(a,b)$ be the Simpson value on the interval $[a,\\,b]$, then the error is $\\left| S(a,b) - \\left[ S(a, \\frac{a + b}{2}) + S(\\frac{a + b}{2}, b) \\right] \\right|$.\n",
    "\n",
    "### If error $< \\varepsilon$, then we can use the Simpson value to aprroximate the integral of $f$.\n",
    "### $$\\int_a^b\\,f(x)\\,dx \\approx S(a,b)$$\n",
    "\n",
    "### If NOT, then we divide the interval $[a,\\,b]$ into the sub-intervals $\\left[a, \\frac{a + b}{2}\\right]$ and $\\left[\\frac{a + b}{2}, b\\right]$ to approximate the integral of $f$.\n",
    "### $$\\int_a^b\\,f(x)\\,dx \\approx S(a, \\frac{a + b}{2}) + S(\\frac{a + b}{2}, b)$$\n",
    "### Until the error is less than $\\varepsilon$."
   ]
  },
  {
   "cell_type": "markdown",
   "metadata": {},
   "source": [
    "---\n",
    "## Error Estimate\n",
    "\n",
    "### Let $S_N(f)$ denote Simpson's rule\n",
    "### $$S_N(f) = \\frac{\\Delta x}{6}\\,\\sum_{i=1}^{N}\\,(f(x_{i - 1}) + 4f(\\frac{x_i + x_{i - 1}}{2}) + f(x_{i}))$$\n",
    "### where $N$ is a positive integer number of sub-intervals of $[a,\\,b],\\,\\Delta x = \\frac{b - a}{N}$ and $x_i = a + i \\Delta x$.\n",
    "\n",
    "### Let $T_N(f)$ denote trapezoid rule\n",
    "### $$T_N(f) = \\frac{\\Delta x}{2} \\sum_{i = 1}^N (f(x_i) + f(x_{i-1}))$$\n",
    "### where $\\Delta x = \\frac{b - a}{N}$ is the length of the sub-intervals and $x_i = a + i\\,\\Delta x$.\n",
    "\n",
    "### Then simpson formula resulting from one level of extrapolation from trapezoid estimates:\n",
    "### $$S_{2N}(f) = \\frac{1}{3}\\left[4T_{2N}(f) - T_{N}(f) \\right].$$\n",
    "\n",
    "### We expect this method to be fourth-order accrate, i.e.,\n",
    "### $$\\int_a^b\\,f(x)\\,dx = S_{2N}(f) + O(N^{-4}),$$\n",
    "\n",
    "### We can further extrapolate to six-order accuracy,\n",
    "### $$R_{4N}(f) = \\frac{1}{15} \\left[ 16 S_{4N}(f) - S_{2N}(f) \\right].$$\n",
    "\n",
    "### By virtue of higher order of accuracy, $R_{4N}(f)$ should be more accurate than $S_{4N}(f)$.\n",
    "### Hence a decent estimate of the error, $E$, in the better of the two Simpson values is\n",
    "### $$E = R_{4N}(f) - S_{4N}(f) = \\frac{S_{4N}(f) - S_{2N}(f)}{15}.$$"
   ]
  },
  {
   "cell_type": "markdown",
   "metadata": {},
   "source": [
    "---\n",
    "## Prerequisites\n",
    "\n",
    "### 1. The integrand function $f(x)$.\n",
    "### 2. The interval $[a,\\,b]$.\n",
    "### 3.  The acceptable error."
   ]
  },
  {
   "cell_type": "markdown",
   "metadata": {},
   "source": [
    "---\n",
    "## Implementation"
   ]
  },
  {
   "cell_type": "markdown",
   "metadata": {},
   "source": [
    "### Part 0. Import necessary libraries"
   ]
  },
  {
   "cell_type": "code",
   "execution_count": null,
   "metadata": {},
   "outputs": [],
   "source": [
    "import numpy as np\n",
    "import matplotlib.pyplot as plt"
   ]
  },
  {
   "cell_type": "markdown",
   "metadata": {},
   "source": [
    "### Part 1. Implement Simpson Adaptive Integration"
   ]
  },
  {
   "cell_type": "code",
   "execution_count": null,
   "metadata": {},
   "outputs": [],
   "source": [
    "def simpson_adaptive(\n",
    "    f,\n",
    "    a,\n",
    "    b,\n",
    "    tolerance=1e-7\n",
    "):\n",
    "    \n",
    "    '''\n",
    "    Parameters\n",
    "    ----------\n",
    "    f : function\n",
    "        Vectorized function of a single variable\n",
    "    a , b : numbers\n",
    "        Interval of integration [a,b]\n",
    "    tolerance : float\n",
    "        One of the termination conditions. Error tolerance.\n",
    "\n",
    "    Returns\n",
    "    -------\n",
    "    S_adp : float\n",
    "        Approximation of the integral of f(x) from a to b using Simpson Adaptive Integration.\n",
    "    nodes : the sequence of float number\n",
    "        All nodes we use to approximate the integral.\n",
    "    '''\n",
    "    \n",
    "    m = (b + a) / 2\n",
    "    \n",
    "    def do_integral(\n",
    "        a,\n",
    "        f_of_a,\n",
    "        b,\n",
    "        f_of_b,\n",
    "        m,\n",
    "        f_of_m,\n",
    "        tolerance\n",
    "    ):\n",
    "        # These are the two new nodes and their f values.\n",
    "        x_left = (a + m) / 2\n",
    "        f_of_x_left = f(x_left)\n",
    "        x_right = (m + b) / 2\n",
    "        f_of_x_right = f(x_right)\n",
    "        \n",
    "        # Record all nodes we use\n",
    "        nodes = [a,  x_left, m, x_right, b]\n",
    "        \n",
    "        # Compute the trapezoid values iteratively.\n",
    "        h = (b - a)\n",
    "        Trapezoid = np.zeros(3, None)\n",
    "        Trapezoid[0] = h * (f_of_a + f_of_b) / 2\n",
    "        Trapezoid[1] = Trapezoid[0] / 2 + (h / 2) * f_of_m\n",
    "        Trapezoid[2] = Trapezoid[1] / 2 + (h / 4) * (f_of_x_left + f_of_x_right)\n",
    "        \n",
    "        # Compute the value of Simpson's rule.\n",
    "        S = (4 * Trapezoid[1:] - Trapezoid[0:2]) / 3\n",
    "        \n",
    "        # Compute error estimate.\n",
    "        error = (S[1] - S[0]) / 15\n",
    "        \n",
    "        # Acceptable error\n",
    "        if abs(error) < tolerance * (1 + abs(S[1])):\n",
    "            return S[1], nodes\n",
    "        \n",
    "        # Error is too large--bisect and recurse.\n",
    "        else:\n",
    "            S_adp_left, nodes_left = do_integral(a, f_of_a, m, f_of_m, x_left, f_of_x_left, tolerance)\n",
    "            S_adp_right, nodes_right = do_integral(m, f_of_m, b, f_of_b, x_right, f_of_x_right, tolerance)\n",
    "            \n",
    "            # Add the both sides of approximate values \n",
    "            S_adp = S_adp_left + S_adp_right\n",
    "            \n",
    "            # Collect all nodes from left and right\n",
    "            nodes = sum([nodes_left, nodes_right[1:]], [])\n",
    "            \n",
    "            return S_adp, nodes\n",
    "    \n",
    "    S_adp, nodes = do_integral(a, f(a), b, f(b), m, f(m), tolerance)\n",
    "    \n",
    "    return S_adp, nodes"
   ]
  },
  {
   "cell_type": "markdown",
   "metadata": {},
   "source": [
    "---\n",
    "## Example\n",
    "\n",
    "## 1. Compute the function on integrals for which we know the exact value.\n",
    "### $$\\int_0^{\\pi/2}\\,\\sin x\\,dx = 1$$"
   ]
  },
  {
   "cell_type": "code",
   "execution_count": null,
   "metadata": {},
   "outputs": [],
   "source": [
    "approximation, nodes = simpson_adaptive(np.sin, 0, np.pi/2)\n",
    "print('The approximate value is', approximation)\n",
    "# print('All nodes are', nodes)\n",
    "print('The number of nodes is', len(nodes))"
   ]
  },
  {
   "cell_type": "markdown",
   "metadata": {},
   "source": [
    "### Error "
   ]
  },
  {
   "cell_type": "code",
   "execution_count": null,
   "metadata": {},
   "outputs": [],
   "source": [
    "error = abs(approximation - 1)\n",
    "print('The error is', error)"
   ]
  },
  {
   "cell_type": "markdown",
   "metadata": {},
   "source": [
    "## 2. Approximate  $\\ln 2$\n",
    "### Find a value $N$ which guarantees that Simpson adaptive approximation of the integral\n",
    "### $$\\int_1^2\\,\\frac{1}{x}\\,dx$$"
   ]
  },
  {
   "cell_type": "code",
   "execution_count": null,
   "metadata": {},
   "outputs": [],
   "source": [
    "approximation, nodes = simpson_adaptive(lambda x : 1/x, 1, 2, 0.0001)\n",
    "print('The approximate value is', approximation)\n",
    "print('All nodes are', nodes)\n",
    "print('The number of nodes is', len(nodes))"
   ]
  },
  {
   "cell_type": "markdown",
   "metadata": {},
   "source": [
    "### Error"
   ]
  },
  {
   "cell_type": "code",
   "execution_count": null,
   "metadata": {},
   "outputs": [],
   "source": [
    "error = abs(approximation - np.log(2))\n",
    "print('The error is', error)"
   ]
  },
  {
   "cell_type": "markdown",
   "metadata": {},
   "source": [
    "# End"
   ]
  }
 ],
 "metadata": {
  "jupytext": {
   "text_representation": {
    "extension": ".py",
    "format_name": "light",
    "format_version": "1.4",
    "jupytext_version": "1.2.3"
   }
  },
  "kernelspec": {
   "display_name": "Python 3",
   "language": "python",
   "name": "python3"
  },
  "language_info": {
   "codemirror_mode": {
    "name": "ipython",
    "version": 3
   },
   "file_extension": ".py",
   "mimetype": "text/x-python",
   "name": "python",
   "nbconvert_exporter": "python",
   "pygments_lexer": "ipython3",
   "version": "3.7.4"
  }
 },
 "nbformat": 4,
 "nbformat_minor": 2
}
