{
 "cells": [
  {
   "cell_type": "markdown",
   "metadata": {},
   "source": [
    "# Numerical Integration: Gaussian–Legendre Quadrature\n",
    "---\n",
    "## Gaussian-Legendre quadrature is a numerical integration method also called the \"Gaussian quadrature\" or \"Legendre quadrature\".\n",
    "\n",
    "<img src=\"https://pic4.zhimg.com/v2-10260b396a3c8fb2e48618da85861338_1200x500.jpg\" width=500>"
   ]
  },
  {
   "cell_type": "markdown",
   "metadata": {},
   "source": [
    "---\n",
    "## Gaussian Quadrature\n",
    "\n",
    "### In numerical analysis, a quadrature rule is an approximation of the definite integral of a function, usually stated as a weighted sum of function values at specified points within the domain of integration.\n",
    "\n",
    "<img src=\"https://upload.wikimedia.org/wikipedia/commons/thumb/9/93/Comparison_Gaussquad_trapezoidal.svg/440px-Comparison_Gaussquad_trapezoidal.svg.png\" width=400>\n",
    "\n",
    "### The Gaussian quadrature rule is taken as $[-1,\\,1]$ and written in the form\n",
    "### $$G_n(f) = \\sum_{i = 1}^n w_i^{(n)} f(x_i^{(n)}) \\approx \\int_{-1}^1 f(x)\\,dx,$$\n",
    "### where the weight $w_i^{(n)}$ and Gaussian points $x_i^{(n)}$, and this form is exact for polynomials of degree $2n - 1$ or less.\n",
    "\n",
    "### This exact rule is known as the Gauss-Legendre quadrature rule. \n",
    "### The quadrature rule will only be an accurate approximation to the integral above if $f(x)$ is well-approximated by a polynomial of degree $2n - 1$ or less on $[-1,\\,1]$."
   ]
  },
  {
   "cell_type": "markdown",
   "metadata": {},
   "source": [
    "---\n",
    "## Gaussian–Legendre Quadrature\n",
    "---\n",
    "### For the simplest integration problem stated above, i.e., $f(x)$ is well-approximated by polynomials on $[-1,\\,1]$, the associated orthogonal polynomials are Legendre polynomials, denoted by $P_n(x)$.\n",
    "\n",
    "### Legendre polynomials can be computed recursively, through following three-term relation\n",
    "$$P_0(x) = 1,\\,P_1(x) = x\\quad \\text{ and } \\quad P_n(x) = \\frac{2n - 1}{n}\\,x\\,P_{n - 1}(x) - \\frac{n - 1}{n}\\,P_{n - 2}(x) \\quad \\text{ where } n = 2,\\,3,\\,\\cdots$$\n",
    "\n",
    "<img src=\"https://pic4.zhimg.com/v2-10260b396a3c8fb2e48618da85861338_1200x500.jpg\" width=500>\n",
    "\n",
    "### With the $n$-th polynomial normalized to give $P_n(1) = 1$ , the $i$-th Gauss node, $x_i$, is the $i$-th root of $P_n$ and the weights are given by the formula\n",
    "### $$w_i = \\frac{2}{(1 - x_i^2)[P_n'(x_i)]^2}$$\n",
    "\n",
    "### Some low-order quadrature rules are tabulated below (over interval $[−1,\\, 1]$, see the section below for other intervals).\n",
    "\n",
    "#### More information: [link](https://en.wikipedia.org/wiki/Gaussian_quadrature#Gauss%E2%80%93Legendre_quadrature) "
   ]
  },
  {
   "cell_type": "markdown",
   "metadata": {},
   "source": [
    "---\n",
    "## Implementation"
   ]
  },
  {
   "cell_type": "markdown",
   "metadata": {},
   "source": [
    "### Part 0. Import necessary libraries"
   ]
  },
  {
   "cell_type": "code",
   "execution_count": null,
   "metadata": {},
   "outputs": [],
   "source": [
    "import numpy as np\n",
    "import matplotlib.pyplot as plt\n",
    "\n",
    "# This library is used to get the weights and point of Gaussian–Legendre\n",
    "from scipy.special.orthogonal import p_roots"
   ]
  },
  {
   "cell_type": "markdown",
   "metadata": {},
   "source": [
    "#### The reference of <code>scipy.special.orthogonal.p_roots</code>: [link](https://docs.scipy.org/doc/scipy-0.18.1/reference/generated/scipy.special.p_roots.html)"
   ]
  },
  {
   "cell_type": "markdown",
   "metadata": {},
   "source": [
    "### Part 1. Implement Legendre polynomial"
   ]
  },
  {
   "cell_type": "code",
   "execution_count": null,
   "metadata": {
    "deletable": false,
    "nbgrader": {
     "cell_type": "code",
     "checksum": "531712698ba7e8190dfdeb3f5477b8af",
     "grade": false,
     "grade_id": "cell-7d41e67baf48067c",
     "locked": false,
     "schema_version": 3,
     "solution": true,
     "task": false
    }
   },
   "outputs": [],
   "source": [
    "def Legendre(\n",
    "    n,\n",
    "    x\n",
    "):\n",
    "    '''\n",
    "    Parameters\n",
    "    ----------\n",
    "    n : integer\n",
    "        degree\n",
    "    x : float\n",
    "        a point or points\n",
    "        \n",
    "    Returns\n",
    "    -------\n",
    "    float\n",
    "    '''\n",
    "    # ===== 請實做程式 =====\n",
    "    \n",
    "    # ===================="
   ]
  },
  {
   "cell_type": "markdown",
   "metadata": {},
   "source": [
    "### Plot the Legendre polynomials of degree 0 to 5 on the interval $[-1,\\,1]$"
   ]
  },
  {
   "cell_type": "code",
   "execution_count": null,
   "metadata": {},
   "outputs": [],
   "source": [
    "# Set the range of x to [-1,1]\n",
    "x_range = np.arange(-1, 1, 0.01)\n",
    "fig, ax = plt.subplots(figsize=(16, 9))\n",
    "\n",
    "# Plot Legendre polynomials of degree 0 to 5\n",
    "for n in range(6):\n",
    "    ax.plot(x_range, Legendre(n, x_range), label = '$P_{'+str(n)+'}(x)$')\n",
    "\n",
    "# Add other text and items\n",
    "ax.set_title('Legendre polynomials of degree 0 to 5 on the [-1, 1]')\n",
    "plt.legend(loc='lower right')\n",
    "ax.grid(True)\n",
    "ax.axhline(y=0)\n",
    "ax.axvline(x=0)\n",
    "plt.show()"
   ]
  },
  {
   "cell_type": "markdown",
   "metadata": {},
   "source": [
    "### Part 2. Implement Gaussian–Legendre quadrature on the interval $[-1,\\,1]$"
   ]
  },
  {
   "cell_type": "code",
   "execution_count": null,
   "metadata": {
    "deletable": false,
    "nbgrader": {
     "cell_type": "code",
     "checksum": "85ff148b055d03f4df47c4287d9a91ed",
     "grade": false,
     "grade_id": "cell-7b11b39cfe2342f6",
     "locked": false,
     "schema_version": 3,
     "solution": true,
     "task": false
    }
   },
   "outputs": [],
   "source": [
    "def gauss1(\n",
    "    f,\n",
    "    n\n",
    "):\n",
    "    '''\n",
    "    Parameters\n",
    "    ----------\n",
    "    f : function\n",
    "        Vectorized function of a single variable\n",
    "    n : integer\n",
    "        Number of points\n",
    "\n",
    "    Returns\n",
    "    -------\n",
    "    G : float\n",
    "        Approximation of the integral of f(x) from a to b using the\n",
    "        Gaussian–Legendre quadrature rule with N points.\n",
    "    '''\n",
    "    # ===== 請實做程式 =====\n",
    "    \n",
    "    # ====================\n",
    "    return G"
   ]
  },
  {
   "cell_type": "markdown",
   "metadata": {},
   "source": [
    "---\n",
    "## Example\n",
    "\n",
    "### 1. Compute the function on integrals for which we know the exact value.\n",
    "### $$\\int_1^{-1}\\,x^2\\,dx = \\frac{2}{3}$$ "
   ]
  },
  {
   "cell_type": "code",
   "execution_count": null,
   "metadata": {},
   "outputs": [],
   "source": [
    "for n in range(1, 11):\n",
    "    approximation = gauss1(lambda x : x**2, n)\n",
    "    print('The approximate value of n =', n, 'is', approximation)"
   ]
  },
  {
   "cell_type": "markdown",
   "metadata": {},
   "source": [
    "---\n",
    "### Part 3. Implement Gaussian–Legendre quadrature on the interval $[a,\\,b]$\n",
    "\n",
    "### This change of interval can be done in the following way:\n",
    "### $$\\int_a^b\\,f(x)\\,dx = \\frac{b - a}{2}\\,\\int_1^{-1}\\,f\\left( \\frac{b - a}{2} x + \\frac{a + b}{2}\\right)\\,dx$$\n",
    "\n",
    "### Applying the Gaussian quadrature rule then results in the following approximation:\n",
    "### $$\\int_a^b\\,f(x)\\,dx \\approx \\sum_{i = 1}^n w_i\\,f\\left( \\frac{a + b}{2}x_i + \\frac{a + b}{2} \\right)$$"
   ]
  },
  {
   "cell_type": "code",
   "execution_count": null,
   "metadata": {
    "deletable": false,
    "nbgrader": {
     "cell_type": "code",
     "checksum": "142d61373f88e55faa2cf6b47268758b",
     "grade": false,
     "grade_id": "cell-fe3c11dbb8da8607",
     "locked": false,
     "schema_version": 3,
     "solution": true,
     "task": false
    }
   },
   "outputs": [],
   "source": [
    "def gauss(\n",
    "    f,\n",
    "    n,\n",
    "    a,\n",
    "    b\n",
    "):\n",
    "    '''\n",
    "    Parameters\n",
    "    ----------\n",
    "    f : function\n",
    "        Vectorized function of a single variable\n",
    "    n : integer\n",
    "        Number of points\n",
    "    a , b : numbers\n",
    "        Interval of integration [a,b]\n",
    "\n",
    "    Returns\n",
    "    -------\n",
    "    G : float\n",
    "        Approximation of the integral of f(x) from a to b using the\n",
    "        Gaussian–Legendre quadrature rule with N points.\n",
    "    '''\n",
    "    # ===== 請實做程式 =====\n",
    "    \n",
    "    # ====================\n",
    "    return G"
   ]
  },
  {
   "cell_type": "markdown",
   "metadata": {},
   "source": [
    "---\n",
    "## Example\n",
    "### 1. Compute another function on integrals for which we know the exact value.\n",
    "### $$\\int_0^{\\frac{\\pi}{2}}\\,\\sin x\\,dx = 1$$"
   ]
  },
  {
   "cell_type": "code",
   "execution_count": null,
   "metadata": {},
   "outputs": [],
   "source": [
    "for n in range(1, 11):\n",
    "    approximation = gauss(np.sin, n, 0, np.pi/2)\n",
    "    print('The approximate value of n =', n, 'is', approximation)"
   ]
  },
  {
   "cell_type": "markdown",
   "metadata": {},
   "source": [
    "## End"
   ]
  }
 ],
 "metadata": {
  "jupytext": {
   "encoding": "# -*- coding: utf-8 -*-",
   "text_representation": {
    "extension": ".py",
    "format_name": "light",
    "format_version": "1.4",
    "jupytext_version": "1.2.3"
   }
  },
  "kernelspec": {
   "display_name": "Python 3",
   "language": "python",
   "name": "python3"
  },
  "language_info": {
   "codemirror_mode": {
    "name": "ipython",
    "version": 3
   },
   "file_extension": ".py",
   "mimetype": "text/x-python",
   "name": "python",
   "nbconvert_exporter": "python",
   "pygments_lexer": "ipython3",
   "version": "3.7.4"
  }
 },
 "nbformat": 4,
 "nbformat_minor": 2
}
