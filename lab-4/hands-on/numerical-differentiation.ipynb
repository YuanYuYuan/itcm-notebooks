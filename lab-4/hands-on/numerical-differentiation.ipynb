{
 "cells": [
  {
   "cell_type": "markdown",
   "metadata": {},
   "source": [
    "# Numerical Differentiation - 1st Order with 3 Points"
   ]
  },
  {
   "cell_type": "markdown",
   "metadata": {},
   "source": [
    "## Import Libraries"
   ]
  },
  {
   "cell_type": "code",
   "execution_count": null,
   "metadata": {},
   "outputs": [],
   "source": [
    "import numpy as np\n",
    "import matplotlib.pyplot as plt\n",
    "from scipy.sparse import diags"
   ]
  },
  {
   "cell_type": "markdown",
   "metadata": {},
   "source": [
    "## Centered Finite Difference: Find $f'(x)$ with $f(x-h), f(x),f(x+h)$. That is to find the coefficients $(a, b, c)$ s.t.  $$f'(x) \\approx a f(x-h) + b f(x) + c f(x)$$"
   ]
  },
  {
   "cell_type": "markdown",
   "metadata": {},
   "source": [
    "### By Taylor's expansion, we have\n",
    "### $$\\begin{aligned}\n",
    "    f(x-h) &= f(x) - hf'(x) + \\frac{h^2}{2}f''(x) + O(h^3)\\\\\n",
    "    f(x) &= f(x) \\\\\n",
    "    f(x+h) &= f(x) + hf'(x) + \\frac{h^2}{2}f''(x) + O(h^3)\n",
    "\\end{aligned}$$ \n",
    "\n",
    "### So it's easy to deduce $(a, b, c)$ is $(-\\frac{1}{h}, 0, \\frac{1}{h})$."
   ]
  },
  {
   "cell_type": "markdown",
   "metadata": {},
   "source": [
    "## One-sided Finite Difference: Find $f'(x)$ with $f(x-2h),f(x-h),f(x)$. That is to find the coefficients $(a, b, c)$ s.t.  $$f'(x) \\approx a f(x-2h) + b f(x-h) + c f(x)$$"
   ]
  },
  {
   "cell_type": "markdown",
   "metadata": {},
   "source": [
    "### By Taylor's expansion, we have\n",
    "### $$\\begin{aligned}\n",
    "    f(x-2h) &= f(x) - 2hf'(x) + \\frac{4h^2}{2}f''(x) + O(h^3)\\\\\n",
    "    f(x-h) &= f(x) - hf'(x) + \\frac{h^2}{2}f''(x) + O(h^3)\\\\\n",
    "    f(x) &= f(x) \\\\\n",
    "\\end{aligned}$$ \n",
    "\n",
    "### So it's easy to deduce $(a, b, c)$ is $(\\frac{1}{2h}, -\\frac{2}{h}, \\frac{3}{2h})$."
   ]
  },
  {
   "cell_type": "markdown",
   "metadata": {},
   "source": [
    "## Construct Tridiagonal Matrix"
   ]
  },
  {
   "cell_type": "code",
   "execution_count": null,
   "metadata": {},
   "outputs": [],
   "source": [
    "def construct_tridiagnoal_matrix(n, coef, h):\n",
    "    diagonals = [\n",
    "        coef[0] * np.ones(n),\n",
    "        coef[1] * np.ones(n-1),\n",
    "        coef[2] * np.ones(n-2)\n",
    "    ]\n",
    "    diagnoal_matrix = diags(diagonals, offsets=[0, 1, 2])\n",
    "    diagnoal_matrix /= h\n",
    "\n",
    "    return diagnoal_matrix"
   ]
  },
  {
   "cell_type": "code",
   "execution_count": null,
   "metadata": {
    "lines_to_next_cell": 0
   },
   "outputs": [],
   "source": [
    "D = construct_tridiagnoal_matrix(\n",
    "    n=8, \n",
    "    coef=[-1/2, 0, 1/2], \n",
    "    h=1\n",
    ")\n",
    "print(D.toarray())"
   ]
  }
 ],
 "metadata": {
  "jupytext": {
   "text_representation": {
    "extension": ".py",
    "format_name": "light",
    "format_version": "1.4",
    "jupytext_version": "1.2.3"
   }
  },
  "kernelspec": {
   "display_name": "Python 3",
   "language": "python",
   "name": "python3"
  },
  "language_info": {
   "codemirror_mode": {
    "name": "ipython",
    "version": 3
   },
   "file_extension": ".py",
   "mimetype": "text/x-python",
   "name": "python",
   "nbconvert_exporter": "python",
   "pygments_lexer": "ipython3",
   "version": "3.7.4"
  }
 },
 "nbformat": 4,
 "nbformat_minor": 2
}
