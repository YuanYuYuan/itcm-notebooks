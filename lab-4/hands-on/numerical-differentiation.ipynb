{
 "cells": [
  {
   "cell_type": "markdown",
   "metadata": {
    "deletable": false,
    "editable": false,
    "nbgrader": {
     "cell_type": "markdown",
     "checksum": "bdd63d98547f2151d5ac24fb041c313b",
     "grade": false,
     "grade_id": "cell-05186f4e7329b8a1",
     "locked": true,
     "schema_version": 3,
     "solution": false,
     "task": false
    }
   },
   "source": [
    "# Numerical Differentiation - 1st Order with 3 Points"
   ]
  },
  {
   "cell_type": "markdown",
   "metadata": {
    "deletable": false,
    "editable": false,
    "nbgrader": {
     "cell_type": "markdown",
     "checksum": "bc3595cda2f08eddc7ad71958742be60",
     "grade": false,
     "grade_id": "cell-35cc28c8b692f463",
     "locked": true,
     "schema_version": 3,
     "solution": false,
     "task": false
    }
   },
   "source": [
    "## Import Libraries"
   ]
  },
  {
   "cell_type": "code",
   "execution_count": null,
   "metadata": {
    "deletable": false,
    "editable": false,
    "nbgrader": {
     "cell_type": "code",
     "checksum": "f6433935f72425899bbce79432a78931",
     "grade": false,
     "grade_id": "cell-3cc6defdf4aec4ce",
     "locked": true,
     "schema_version": 3,
     "solution": false,
     "task": false
    }
   },
   "outputs": [],
   "source": [
    "import numpy as np\n",
    "import matplotlib.pyplot as plt\n",
    "from scipy.sparse import diags"
   ]
  },
  {
   "cell_type": "markdown",
   "metadata": {
    "deletable": false,
    "editable": false,
    "nbgrader": {
     "cell_type": "markdown",
     "checksum": "c52eea6c29f4853f1aeaa58007cca6b5",
     "grade": false,
     "grade_id": "cell-70742efb65d3baff",
     "locked": true,
     "schema_version": 3,
     "solution": false,
     "task": false
    }
   },
   "source": [
    "## Centered Finite Difference: Find $f'(x)$ with $f(x-h), f(x),f(x+h)$. That is to find the coefficients $(a, b, c)$ s.t.  $$f'(x) \\approx a f(x-h) + b f(x) + c f(x)$$"
   ]
  },
  {
   "cell_type": "markdown",
   "metadata": {
    "deletable": false,
    "editable": false,
    "nbgrader": {
     "cell_type": "markdown",
     "checksum": "65e2779f282ecc5ae45c5ff4342407a9",
     "grade": false,
     "grade_id": "cell-a32897374bda45a3",
     "locked": true,
     "schema_version": 3,
     "solution": false,
     "task": false
    }
   },
   "source": [
    "### By Taylor's expansion, we have\n",
    "### $$\\begin{aligned}\n",
    "    f(x-h) &= f(x) - hf'(x) + \\frac{h^2}{2}f''(x) + O(h^3)\\\\\n",
    "    f(x) &= f(x) \\\\\n",
    "    f(x+h) &= f(x) + hf'(x) + \\frac{h^2}{2}f''(x) + O(h^3)\n",
    "\\end{aligned}$$ \n",
    "\n",
    "### So it's easy to deduce $(a, b, c)$ is $(-\\frac{1}{h}, 0, \\frac{1}{h})$."
   ]
  },
  {
   "cell_type": "markdown",
   "metadata": {
    "deletable": false,
    "editable": false,
    "nbgrader": {
     "cell_type": "markdown",
     "checksum": "1388a329a93a4e8ac18f89ed5c393c29",
     "grade": false,
     "grade_id": "cell-8c949254b9608b34",
     "locked": true,
     "schema_version": 3,
     "solution": false,
     "task": false
    }
   },
   "source": [
    "## One-sided Finite Difference: Find $f'(x)$ with $f(x-2h),f(x-h),f(x)$. That is to find the coefficients $(a, b, c)$ s.t.  $$f'(x) \\approx a f(x-2h) + b f(x-h) + c f(x)$$"
   ]
  },
  {
   "cell_type": "markdown",
   "metadata": {
    "deletable": false,
    "editable": false,
    "nbgrader": {
     "cell_type": "markdown",
     "checksum": "91a0e519db44d930191af03fee0abd9e",
     "grade": false,
     "grade_id": "cell-a66691ab22a24c04",
     "locked": true,
     "schema_version": 3,
     "solution": false,
     "task": false
    }
   },
   "source": [
    "### By Taylor's expansion, we have\n",
    "### $$\\begin{aligned}\n",
    "    f(x-2h) &= f(x) - 2hf'(x) + \\frac{4h^2}{2}f''(x) + O(h^3)\\\\\n",
    "    f(x-h) &= f(x) - hf'(x) + \\frac{h^2}{2}f''(x) + O(h^3)\\\\\n",
    "    f(x) &= f(x) \\\\\n",
    "\\end{aligned}$$ \n",
    "\n",
    "### So it's easy to deduce $(a, b, c)$ is $(\\frac{1}{2h}, -\\frac{2}{h}, \\frac{3}{2h})$."
   ]
  },
  {
   "cell_type": "markdown",
   "metadata": {
    "deletable": false,
    "editable": false,
    "nbgrader": {
     "cell_type": "markdown",
     "checksum": "83cf7a36a194a6a8fe61279b81009a3d",
     "grade": false,
     "grade_id": "cell-ebb8515d2f0bd03f",
     "locked": true,
     "schema_version": 3,
     "solution": false,
     "task": false
    }
   },
   "source": [
    "## Construct Tridiagonal Matrix"
   ]
  },
  {
   "cell_type": "code",
   "execution_count": null,
   "metadata": {
    "deletable": false,
    "nbgrader": {
     "cell_type": "code",
     "checksum": "422db93ba6b09b55a707b1f570cebfac",
     "grade": false,
     "grade_id": "cell-8884667462590703",
     "locked": false,
     "schema_version": 3,
     "solution": true,
     "task": false
    }
   },
   "outputs": [],
   "source": [
    "# ===== 請實做程式 =====\n",
    "\n",
    "# ===================="
   ]
  },
  {
   "cell_type": "code",
   "execution_count": null,
   "metadata": {
    "deletable": false,
    "nbgrader": {
     "cell_type": "code",
     "checksum": "5a024fa804f81ab3772ffe042fb5dee0",
     "grade": false,
     "grade_id": "cell-1731d19c78989d29",
     "locked": false,
     "schema_version": 3,
     "solution": true,
     "task": false
    }
   },
   "outputs": [],
   "source": [
    "# ===== 請實做程式 =====\n",
    "\n",
    "# ===================="
   ]
  },
  {
   "cell_type": "code",
   "execution_count": null,
   "metadata": {},
   "outputs": [],
   "source": []
  }
 ],
 "metadata": {
  "jupytext": {
   "text_representation": {
    "extension": ".py",
    "format_name": "light",
    "format_version": "1.4",
    "jupytext_version": "1.2.3"
   }
  },
  "kernelspec": {
   "display_name": "Python 3",
   "language": "python",
   "name": "python3"
  },
  "language_info": {
   "codemirror_mode": {
    "name": "ipython",
    "version": 3
   },
   "file_extension": ".py",
   "mimetype": "text/x-python",
   "name": "python",
   "nbconvert_exporter": "python",
   "pygments_lexer": "ipython3",
   "version": "3.7.4"
  }
 },
 "nbformat": 4,
 "nbformat_minor": 2
}
