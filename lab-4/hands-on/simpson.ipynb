{
 "cells": [
  {
   "cell_type": "markdown",
   "metadata": {},
   "source": [
    "# Numerical Integration: Simpson's Rule\n",
    "---\n",
    "## _Simpson's Rule_ uses a quadratic polynomial on each subinterval of a partition to approximate the function $f(x)$ and to compute the definite integral.\n",
    "\n",
    "<img src=\"https://www.emathhelp.net/images/calc/322_simpson_rule.png\" width=350>\n",
    "\n",
    "---\n",
    "\n",
    "### This is an improvement over the trapezoid rule which approximates $f(x)$ by a straight line on each subinterval of a partition.\n",
    "\n",
    "### The formula for Simpson's rule is\n",
    "### $$S_N(f) = \\frac{\\Delta x}{3} \\sum_{i = 1}^{N/2} (f(x_{2i - 2}) + 4f(x_{2i - 1}) + f(x_{2i}))$$\n",
    "\n",
    "### where $N$ is an even number of sub-intervals of $[a,\\,b],\\,\\Delta x = \\frac{b - a}{N}$ and $x_i = a + i \\Delta x$.\n",
    "\n",
    "#### <span style=\"color:red\"> Notice: In the lecture note, $N$ can be any positive integer, then $\\Delta x$ will be $\\Delta x = \\frac{b - a}{2N}$. </span>"
   ]
  },
  {
   "cell_type": "markdown",
   "metadata": {},
   "source": [
    "---\n",
    "## Proof\n",
    "\n",
    "### Pick the sub-interval $[x_{2i - 2},\\,x_{2i}]$. So we can use  Lagrange polynomial interpolation to find an expression to approximate the function $f(x)$ on the sub-interval $[x_{2i - 2},\\,x_{2i}]$\n",
    "### $$f(x)\n",
    "\\approx \\frac{(x - x_{2i - 1})(x - x_{2i})}{(x_{2i - 2} - x_{2i - 1})(x_{2i - 2} - x_{2i})}\\,f(x_{2i - 2})\n",
    " +  \\frac{(x - x_{2i - 2})(x - x_{2i})}{(x_{2i - 1} - x_{2i - 2})(x_{2i - 1} - x_{2i})}\\,f(x_{2i - 1})\n",
    " +  \\frac{(x - x_{2i - 2})(x - x_{2i - 1})}{(x_{2i} - x_{2i - 2})(x_{2i} - x_{2i - 1})}\\,f(x_{2i})$$\n",
    "\n",
    "### Thus,  the integral on the sub-interval $[x_{2i - 2},\\,x_{2i}]$ is\n",
    "### $$\\begin{aligned}\n",
    "\\int_{x_{2i - 2}}^{x_{2i}} f(x)\\,dx\n",
    "&\\approx \\int_{x_{2i - 2}}^{x_{2i}} \\frac{(x - x_{2i - 1})(x - x_{2i})}{(x_{2i - 2} - x_{2i - 1})(x_{2i - 2} - x_{2i})}\\,f(x_{2i - 2})\n",
    " +  \\frac{(x - x_{2i - 2})(x - x_{2i})}{(x_{2i - 1} - x_{2i - 2})(x_{2i - 1} - x_{2i})}\\,f(x_{2i - 1})\\\\\n",
    "&+  \\frac{(x - x_{2i - 2})(x - x_{2i - 1})}{(x_{2i} - x_{2i - 2})(x_{2i} - x_{2i - 1})}\\,f(x_{2i})\\,dx\\\\\n",
    "&= \\int_{x_{2i - 2}}^{x_{2i}} \\frac{(x - x_{2i - 1})(x - x_{2i})}{2 \\Delta x^2}\\,f(x_{2i - 2})\n",
    " +  \\frac{(x - x_{2i - 2})(x - x_{2i})}{\\Delta x^2}\\,f(x_{2i - 1})\\\\\n",
    "&+  \\frac{(x - x_{2i - 2})(x - x_{2i - 1})}{2 \\Delta x^2}\\,f(x_{2i})\\,dx\\\\\n",
    "&= \\frac{\\Delta x}{3}\\,(f(x_{2i - 2}) + 4f(x_{2i - 1}) + f(x_{2i}))\n",
    "\\end{aligned}$$\n",
    "\n",
    "### where $N$ is an even number of sub-intervals of $[a,\\,b],\\,\\Delta x = \\frac{b - a}{N}$ and $x_i = a + i \\Delta x$.\n",
    "\n",
    "### Hence the Simpson's rule for the integral is\n",
    "### $$\\int_a^b f(x) dx \\approx S_N(f) = \\frac{\\Delta x}{3} \\sum_{i = 1}^{N/2} (f(x_{2i - 2}) + 4f(x_{2i - 1}) + f(x_{2i}))$$"
   ]
  },
  {
   "cell_type": "markdown",
   "metadata": {},
   "source": [
    "---\n",
    "## Prerequisites\n",
    "\n",
    "### 1. The integrand function $f(x)$.\n",
    "### 2. The interval $[a,\\,b]$.\n",
    "### 3. The even number $N$ where $N$ is a number of sub-intervals of  $[a,\\,b]$."
   ]
  },
  {
   "cell_type": "markdown",
   "metadata": {},
   "source": [
    "---\n",
    "## Implementation"
   ]
  },
  {
   "cell_type": "markdown",
   "metadata": {},
   "source": [
    "### Part 0. Import necessary libraries"
   ]
  },
  {
   "cell_type": "code",
   "execution_count": null,
   "metadata": {},
   "outputs": [],
   "source": [
    "import numpy as np\n",
    "import matplotlib.pyplot as plt"
   ]
  },
  {
   "cell_type": "markdown",
   "metadata": {},
   "source": [
    "### Part 1. Implement Simpson's rule"
   ]
  },
  {
   "cell_type": "code",
   "execution_count": null,
   "metadata": {
    "deletable": false,
    "nbgrader": {
     "cell_type": "code",
     "checksum": "7a906bd11d5a231ffd7baa5673bfa1c8",
     "grade": false,
     "grade_id": "cell-5fdf9aeb1fd78c84",
     "locked": false,
     "schema_version": 3,
     "solution": true,
     "task": false
    }
   },
   "outputs": [],
   "source": [
    "def simpson(\n",
    "    f,\n",
    "    a,\n",
    "    b,\n",
    "    N=50\n",
    "):\n",
    "    \n",
    "    '''\n",
    "    Parameters\n",
    "    ----------\n",
    "    f : function\n",
    "        Vectorized function of a single variable\n",
    "    a , b : numbers\n",
    "        Interval of integration [a,b]\n",
    "    N : (even) integer\n",
    "        Number of subintervals of [a,b]\n",
    "\n",
    "    Returns\n",
    "    -------\n",
    "    S : float\n",
    "        Approximation of the integral of f(x) from a to b using\n",
    "        Simpson's rule with N subintervals of equal length.\n",
    "    '''\n",
    "    \n",
    "    '''\n",
    "    Hint:\n",
    "        1. Check whether 'N' is even\n",
    "        2. Compute the length of each sub-interval\n",
    "        3. Compute the value of f(x)\n",
    "        4. Compute the integal\n",
    "    '''\n",
    "    # ===== 請實做程式 =====\n",
    "    \n",
    "    # ====================\n",
    "    return S"
   ]
  },
  {
   "cell_type": "markdown",
   "metadata": {},
   "source": [
    "---\n",
    "## Example\n",
    "\n",
    "### 1. Compute the function on integrals for which we know the exact value.\n",
    "### $$\\int_0^1\\,3x^2\\,dx = 1$$"
   ]
  },
  {
   "cell_type": "code",
   "execution_count": null,
   "metadata": {},
   "outputs": [],
   "source": [
    "approximation = simpson(lambda x : 3*x**2, 0, 1, 10)\n",
    "print('The approximate value is', approximation)\n",
    "print('The error is', abs(1 - approximation))"
   ]
  },
  {
   "cell_type": "markdown",
   "metadata": {},
   "source": [
    "### 2. Let's compute another function on integrals for which we know the exact value.\n",
    "### $$\\int_0^{\\pi/2}\\,\\sin x\\, dx = 1$$"
   ]
  },
  {
   "cell_type": "code",
   "execution_count": null,
   "metadata": {},
   "outputs": [],
   "source": [
    "approximation = simpson(np.sin, 0, np.pi/2, 100)\n",
    "print('The approximate value is', approximation)\n",
    "print('The error is', abs(1 - approximation))"
   ]
  },
  {
   "cell_type": "markdown",
   "metadata": {},
   "source": [
    "---\n",
    "## Error Estimate\n",
    "\n",
    "### We havve seen that the error in a Riemann sum is inversely proportional to the size of the partition $N$ and the trapezoid rule is inversely proportional to $N^2$.\n",
    "\n",
    "### The errror formula in the theorem below shows that Simpson's rule is even better as the error is inversely proportional to $N^4$."
   ]
  },
  {
   "cell_type": "markdown",
   "metadata": {},
   "source": [
    "---\n",
    "## Theorem\n",
    "\n",
    "### Let $S_N (f)$ denote Simpson's rule\n",
    "### $$S_N(f) = \\frac{\\Delta x}{3}\\,\\sum_{i=1}^{N/2}\\,(f(x_{2i - 2}) + 4f(x_{2i - 1}) + f(x_{2i}))$$\n",
    "### where $N$ is an even number of sub-intervals of $[a,\\,b],\\,\\Delta x = \\frac{b - a}{N}$ and $x_i = a + i \\Delta x$.\n",
    "\n",
    "### The <span style=\"color:red\"> _error bound_ </span> is\n",
    "### $$E_N^S(f) = \\left| \\int_a^b f(x)\\,dx - S_N(f) \\right| \\leq \\frac{(b - a)^5}{180N^4}\\,K_4$$\n",
    "### where $|f^{(4)} (x)|\\,\\leq\\,K_4$ for all $x \\in [a,b]$."
   ]
  },
  {
   "cell_type": "markdown",
   "metadata": {},
   "source": [
    "#### More detail for the proof of this theorem: [link](https://www.youtube.com/watch?v=q8jD7U0_BSs)"
   ]
  },
  {
   "cell_type": "markdown",
   "metadata": {},
   "source": [
    "---\n",
    "## Example\n",
    "\n",
    "## 1. Approximate $\\ln 2$\n",
    "\n",
    "### Find a value $N$ which guarantees that Simpson's rule approximation $S_N(f)$ of the integral\n",
    "### $$\\int_1^2\\,\\frac{1}{x}\\,dx$$\n",
    "### satisfies $E_N^S(f) \\leq 0.0001$.\n",
    "\n",
    "### Compute\n",
    "### $$f^{(4)}(x) = \\frac{24}{x^5}$$\n",
    "### therefore $|f^{(4)}(x)| \\leq 24$ for all $x \\in [1,\\,2]$ and so\n",
    "### $$\\frac{1}{180N^4} \\cdot 24 \\leq 0.0001\\,\n",
    "\\Rightarrow \\, \\frac{20000}{15N^4} \\leq 1\\,\n",
    "\\Rightarrow \\left( \\frac{20000}{15} \\right)^{1/4} \\leq N$$"
   ]
  },
  {
   "cell_type": "code",
   "execution_count": null,
   "metadata": {},
   "outputs": [],
   "source": [
    "# Compute the inequality\n",
    "print((20000/15)**0.25, '< N')"
   ]
  },
  {
   "cell_type": "markdown",
   "metadata": {},
   "source": [
    "### So let's compute Simpson's rule with $N = 8$ (the smallest even integer greater than $6.04$)"
   ]
  },
  {
   "cell_type": "code",
   "execution_count": null,
   "metadata": {},
   "outputs": [],
   "source": [
    "approximation = simpson(lambda x : 1/x, 1, 2, 8)\n",
    "print('The approximate value is', approximation)"
   ]
  },
  {
   "cell_type": "markdown",
   "metadata": {},
   "source": [
    "### Verify that $E_N^S(f) \\leq 0.0001$"
   ]
  },
  {
   "cell_type": "code",
   "execution_count": null,
   "metadata": {},
   "outputs": [],
   "source": [
    "error = abs(np.log(2) - approximation)\n",
    "print('The error is', error)\n",
    "print('Answer is', error <= 0.0001)"
   ]
  },
  {
   "cell_type": "markdown",
   "metadata": {},
   "source": [
    "# End"
   ]
  }
 ],
 "metadata": {
  "jupytext": {
   "text_representation": {
    "extension": ".py",
    "format_name": "light",
    "format_version": "1.4",
    "jupytext_version": "1.2.3"
   }
  },
  "kernelspec": {
   "display_name": "Python 3",
   "language": "python",
   "name": "python3"
  },
  "language_info": {
   "codemirror_mode": {
    "name": "ipython",
    "version": 3
   },
   "file_extension": ".py",
   "mimetype": "text/x-python",
   "name": "python",
   "nbconvert_exporter": "python",
   "pygments_lexer": "ipython3",
   "version": "3.7.4"
  }
 },
 "nbformat": 4,
 "nbformat_minor": 2
}
