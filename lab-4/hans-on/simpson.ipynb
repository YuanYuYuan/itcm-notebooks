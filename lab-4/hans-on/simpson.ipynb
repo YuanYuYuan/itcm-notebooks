{
 "cells": [
  {
   "cell_type": "markdown",
   "metadata": {
    "deletable": false,
    "editable": false,
    "nbgrader": {
     "cell_type": "markdown",
     "checksum": "e47635c419396b4ab5de09cb4e300c87",
     "grade": false,
     "grade_id": "cell-fdc83c3ef3dcbe9d",
     "locked": true,
     "schema_version": 3,
     "solution": false,
     "task": false
    }
   },
   "source": [
    "# Numerical Integration: Simpson's Rule\n",
    "---\n",
    "## _Simpson's Rule_ uses a quadratic polynomial on each subinterval of a partition to approximate the function $f(x)$ and to compute the definite integral.\n",
    "\n",
    "<img src=\"https://www.emathhelp.net/images/calc/322_simpson_rule.png\" width=350>\n",
    "\n",
    "---\n",
    "\n",
    "### This is an improvement over the trapezoid rule which approximates $f(x)$ by a straight line on each subinterval of a partition.\n",
    "\n",
    "### The formula for Simpson's rule is\n",
    "### $$S_N(f) = \\frac{\\Delta x}{3} \\sum_{i = 1}^{N/2} (f(x_{2i - 2}) + 4f(x_{2i - 1}) + f(x_{2i}))$$\n",
    "\n",
    "### where $N$ is an even number of sub-intervals of $[a,\\,b],\\,\\Delta x = \\frac{b - a}{N}$ and $x_i = a + i \\Delta x$.\n",
    "\n",
    "#### <span style=\"color:red\"> Notice: In the lecture note, $N$ can be any positive integer, then $\\Delta x$ will be $\\Delta x = \\frac{b - a}{2N}$. </span>"
   ]
  },
  {
   "cell_type": "markdown",
   "metadata": {
    "deletable": false,
    "editable": false,
    "nbgrader": {
     "cell_type": "markdown",
     "checksum": "34471167335aee34208b151cd90b43ea",
     "grade": false,
     "grade_id": "cell-edccbf7aeaa04afb",
     "locked": true,
     "schema_version": 3,
     "solution": false,
     "task": false
    }
   },
   "source": [
    "---\n",
    "## Proof\n",
    "\n",
    "### Pick the sub-interval $[x_{2i - 2},\\,x_{2i}]$. So we can use  Lagrange polynomial interpolation to find an expression to approximate the function $f(x)$ on the sub-interval $[x_{2i - 2},\\,x_{2i}]$\n",
    "### $$f(x)\n",
    "\\approx \\frac{(x - x_{2i - 1})(x - x_{2i})}{(x_{2i - 2} - x_{2i - 1})(x_{2i - 2} - x_{2i})}\\,f(x_{2i - 2})\n",
    "# +  \\frac{(x - x_{2i - 2})(x - x_{2i})}{(x_{2i - 1} - x_{2i - 2})(x_{2i - 1} - x_{2i})}\\,f(x_{2i - 1})\n",
    "# +  \\frac{(x - x_{2i - 2})(x - x_{2i - 1})}{(x_{2i} - x_{2i - 2})(x_{2i} - x_{2i - 1})}\\,f(x_{2i})$$\n",
    "\n",
    "### Thus,  the integral on the sub-interval $[x_{2i - 2},\\,x_{2i}]$ is\n",
    "### $$\\begin{aligned}\n",
    "\\int_{x_{2i - 2}}^{x_{2i}} f(x)\\,dx\n",
    "&\\approx \\int_{x_{2i - 2}}^{x_{2i}} \\frac{(x - x_{2i - 1})(x - x_{2i})}{(x_{2i - 2} - x_{2i - 1})(x_{2i - 2} - x_{2i})}\\,f(x_{2i - 2})\n",
    "# +  \\frac{(x - x_{2i - 2})(x - x_{2i})}{(x_{2i - 1} - x_{2i - 2})(x_{2i - 1} - x_{2i})}\\,f(x_{2i - 1})\\\\\n",
    "&+  \\frac{(x - x_{2i - 2})(x - x_{2i - 1})}{(x_{2i} - x_{2i - 2})(x_{2i} - x_{2i - 1})}\\,f(x_{2i})\\,dx\\\\\n",
    "&= \\int_{x_{2i - 2}}^{x_{2i}} \\frac{(x - x_{2i - 1})(x - x_{2i})}{2 \\Delta x^2}\\,f(x_{2i - 2})\n",
    "# +  \\frac{(x - x_{2i - 2})(x - x_{2i})}{\\Delta x^2}\\,f(x_{2i - 1})\\\\\n",
    "&+  \\frac{(x - x_{2i - 2})(x - x_{2i - 1})}{2 \\Delta x^2}\\,f(x_{2i})\\,dx\\\\\n",
    "&= \\frac{\\Delta x}{3}\\,(f(x_{2i - 2}) + 4f(x_{2i - 1}) + f(x_{2i}))\n",
    "\\end{aligned}$$\n",
    "\n",
    "### where $N$ is an even number of sub-intervals of $[a,\\,b],\\,\\Delta x = \\frac{b - a}{N}$ and $x_i = a + i \\Delta x$.\n",
    "\n",
    "### Hence the Simpson's rule for the integral is\n",
    "### $$\\int_a^b f(x) dx \\approx S_N(f) = \\frac{\\Delta x}{3} \\sum_{i = 1}^{N/2} (f(x_{2i - 2}) + 4f(x_{2i - 1}) + f(x_{2i}))$$"
   ]
  },
  {
   "cell_type": "markdown",
   "metadata": {
    "deletable": false,
    "editable": false,
    "nbgrader": {
     "cell_type": "markdown",
     "checksum": "75f50d1814b8451edb4c3e3f8ee2a78f",
     "grade": false,
     "grade_id": "cell-1ad7d8b2c3c57aad",
     "locked": true,
     "schema_version": 3,
     "solution": false,
     "task": false
    }
   },
   "source": [
    "---\n",
    "## Prerequisites\n",
    "\n",
    "### 1. The integrand function $f(x)$.\n",
    "### 2. The interval $[a,\\,b]$.\n",
    "### 3. The even number $N$ where $N$ is a number of sub-intervals of  $[a,\\,b]$."
   ]
  },
  {
   "cell_type": "markdown",
   "metadata": {
    "deletable": false,
    "editable": false,
    "nbgrader": {
     "cell_type": "markdown",
     "checksum": "64a7dfbf4733809d75b35f124f7d3f05",
     "grade": false,
     "grade_id": "cell-cf75cb6c5fffb2a0",
     "locked": true,
     "schema_version": 3,
     "solution": false,
     "task": false
    }
   },
   "source": [
    "---\n",
    "## Implementation"
   ]
  },
  {
   "cell_type": "markdown",
   "metadata": {
    "deletable": false,
    "editable": false,
    "nbgrader": {
     "cell_type": "markdown",
     "checksum": "08d9a337d6ea9198098a79125eb6721a",
     "grade": false,
     "grade_id": "cell-14112d17569f216b",
     "locked": true,
     "schema_version": 3,
     "solution": false,
     "task": false
    }
   },
   "source": [
    "### Part 0. Import necessary libraries"
   ]
  },
  {
   "cell_type": "code",
   "execution_count": null,
   "metadata": {
    "deletable": false,
    "editable": false,
    "nbgrader": {
     "cell_type": "code",
     "checksum": "b552f9ee336f9c30e2a17936d42d68e0",
     "grade": false,
     "grade_id": "cell-f24d680b03bc74d4",
     "locked": true,
     "schema_version": 3,
     "solution": false,
     "task": false
    }
   },
   "outputs": [],
   "source": [
    "import numpy as np\n",
    "import matplotlib.pyplot as plt"
   ]
  },
  {
   "cell_type": "markdown",
   "metadata": {
    "deletable": false,
    "editable": false,
    "nbgrader": {
     "cell_type": "markdown",
     "checksum": "9f08759e5ddad8cf3f69f7fb3de97268",
     "grade": false,
     "grade_id": "cell-480ed71a01b8641e",
     "locked": true,
     "schema_version": 3,
     "solution": false,
     "task": false
    }
   },
   "source": [
    "### Part 1. Implement Simpson's rule"
   ]
  },
  {
   "cell_type": "code",
   "execution_count": null,
   "metadata": {
    "deletable": false,
    "nbgrader": {
     "cell_type": "code",
     "checksum": "7a906bd11d5a231ffd7baa5673bfa1c8",
     "grade": false,
     "grade_id": "cell-5fdf9aeb1fd78c84",
     "locked": false,
     "schema_version": 3,
     "solution": true,
     "task": false
    }
   },
   "outputs": [],
   "source": [
    "def simpson(\n",
    "    f,\n",
    "    a,\n",
    "    b,\n",
    "    N=50\n",
    "):\n",
    "    \n",
    "    '''\n",
    "    Parameters\n",
    "    ----------\n",
    "    f : function\n",
    "        Vectorized function of a single variable\n",
    "    a , b : numbers\n",
    "        Interval of integration [a,b]\n",
    "    N : (even) integer\n",
    "        Number of subintervals of [a,b]\n",
    "\n",
    "    Returns\n",
    "    -------\n",
    "    S : float\n",
    "        Approximation of the integral of f(x) from a to b using\n",
    "        Simpson's rule with N subintervals of equal length.\n",
    "    '''\n",
    "    \n",
    "    '''\n",
    "    Hint:\n",
    "        1. Check whether 'N' is even\n",
    "        2. Compute the length of each sub-interval\n",
    "        3. Compute the value of f(x)\n",
    "        4. Compute the integal\n",
    "    '''\n",
    "    # ===== 請實做程式 =====\n",
    "    \n",
    "    # ====================\n",
    "    return S"
   ]
  },
  {
   "cell_type": "markdown",
   "metadata": {
    "deletable": false,
    "editable": false,
    "nbgrader": {
     "cell_type": "markdown",
     "checksum": "d9cb7a12227b4ca196c771adb8379cd4",
     "grade": false,
     "grade_id": "cell-0956377fcbd69a49",
     "locked": true,
     "schema_version": 3,
     "solution": false,
     "task": false
    }
   },
   "source": [
    "---\n",
    "## Example\n",
    "\n",
    "### 1. Compute the function on integrals for which we know the exact value.\n",
    "### $$\\int_0^1\\,3x^2\\,dx = 1$$"
   ]
  },
  {
   "cell_type": "code",
   "execution_count": null,
   "metadata": {
    "deletable": false,
    "editable": false,
    "nbgrader": {
     "cell_type": "code",
     "checksum": "42bebccda053e0e37b81ff675e99dced",
     "grade": false,
     "grade_id": "cell-47ac07f67df910da",
     "locked": true,
     "schema_version": 3,
     "solution": false,
     "task": false
    }
   },
   "outputs": [],
   "source": [
    "approximation = simpson(lambda x : 3*x**2, 0, 1, 10)\n",
    "print('The approximate value is', approximation)\n",
    "print('The error is', abs(1 - approximation))"
   ]
  },
  {
   "cell_type": "markdown",
   "metadata": {
    "deletable": false,
    "editable": false,
    "nbgrader": {
     "cell_type": "markdown",
     "checksum": "3edd51976a56341453079c7a2e3c3722",
     "grade": false,
     "grade_id": "cell-b0eed23b3ae0a6ee",
     "locked": true,
     "schema_version": 3,
     "solution": false,
     "task": false
    }
   },
   "source": [
    "### 2. Let's compute another function on integrals for which we know the exact value.\n",
    "### $$\\int_0^{\\pi/2}\\,\\sin x\\, dx = 1$$"
   ]
  },
  {
   "cell_type": "code",
   "execution_count": null,
   "metadata": {
    "deletable": false,
    "editable": false,
    "nbgrader": {
     "cell_type": "code",
     "checksum": "8ba5395bb6b32cc62485931206ea1409",
     "grade": false,
     "grade_id": "cell-a796b248464abf60",
     "locked": true,
     "schema_version": 3,
     "solution": false,
     "task": false
    }
   },
   "outputs": [],
   "source": [
    "approximation = simpson(np.sin, 0, np.pi/2, 100)\n",
    "print('The approximate value is', approximation)\n",
    "print('The error is', abs(1 - approximation))"
   ]
  },
  {
   "cell_type": "markdown",
   "metadata": {
    "deletable": false,
    "editable": false,
    "nbgrader": {
     "cell_type": "markdown",
     "checksum": "7c00dca2f13a873a885fd0a63a13f963",
     "grade": false,
     "grade_id": "cell-f596915383794c69",
     "locked": true,
     "schema_version": 3,
     "solution": false,
     "task": false
    }
   },
   "source": [
    "---\n",
    "## Error Estimate\n",
    "\n",
    "### We havve seen that the error in a Riemann sum is inversely proportional to the size of the partition $N$ and the trapezoid rule is inversely proportional to $N^2$.\n",
    "\n",
    "### The errror formula in the theorem below shows that Simpson's rule is even better as the error is inversely proportional to $N^4$."
   ]
  },
  {
   "cell_type": "markdown",
   "metadata": {
    "deletable": false,
    "editable": false,
    "nbgrader": {
     "cell_type": "markdown",
     "checksum": "d3c478d8e6f458481d70bdff65c92390",
     "grade": false,
     "grade_id": "cell-852038a153e56eb7",
     "locked": true,
     "schema_version": 3,
     "solution": false,
     "task": false
    }
   },
   "source": [
    "---\n",
    "## Theorem\n",
    "\n",
    "### Let $S_N (f)$ denote Simpson's rule\n",
    "### $$S_N(f) = \\frac{\\Delta x}{3}\\,\\sum_{i=1}^{N/2}\\,(f(x_{2i - 2}) + 4f(x_{2i - 1}) + f(x_{2i}))$$\n",
    "### where $N$ is an even number of sub-intervals of $[a,\\,b],\\,\\Delta x = \\frac{b - a}{N}$ and $x_i = a + i \\Delta x$.\n",
    "\n",
    "### The <span style=\"color:red\"> _error bound_ </span> is\n",
    "### $$E_N^S(f) = \\left| \\int_a^b f(x)\\,dx - S_N(f) \\right| \\leq \\frac{(b - a)^5}{180N^4}\\,K_4$$\n",
    "### where $|f^{(4)} (x)|\\,\\leq\\,K_4$ for all $x \\in [a,b]$."
   ]
  },
  {
   "cell_type": "markdown",
   "metadata": {
    "deletable": false,
    "editable": false,
    "nbgrader": {
     "cell_type": "markdown",
     "checksum": "e06e0dbecff124eb423479542c59a975",
     "grade": false,
     "grade_id": "cell-5307f77441f3f458",
     "locked": true,
     "schema_version": 3,
     "solution": false,
     "task": false
    }
   },
   "source": [
    "#### More detail for the proof of this theorem: [link](https://www.youtube.com/watch?v=q8jD7U0_BSs)"
   ]
  },
  {
   "cell_type": "markdown",
   "metadata": {
    "deletable": false,
    "editable": false,
    "nbgrader": {
     "cell_type": "markdown",
     "checksum": "c8948e6a2dcaed7ab39e4e5d21467053",
     "grade": false,
     "grade_id": "cell-428b11669b916dc2",
     "locked": true,
     "schema_version": 3,
     "solution": false,
     "task": false
    }
   },
   "source": [
    "---\n",
    "## Example\n",
    "\n",
    "## 1. Approximate $\\ln 2$\n",
    "\n",
    "### Find a value $N$ which guarantees that Simpson's rule approximation $S_N(f)$ of the integral\n",
    "### $$\\int_1^2\\,\\frac{1}{x}\\,dx$$\n",
    "### satisfies $E_N^S(f) \\leq 0.0001$.\n",
    "\n",
    "### Compute\n",
    "### $$f^{(4)}(x) = \\frac{24}{x^5}$$\n",
    "### therefore $|f^{(4)}(x)| \\leq 24$ for all $x \\in [1,\\,2]$ and so\n",
    "### $$\\frac{1}{180N^4} \\cdot 24 \\leq 0.0001\\,\n",
    "\\Rightarrow \\, \\frac{20000}{15N^4} \\leq 1\\,\n",
    "\\Rightarrow \\left( \\frac{20000}{15} \\right)^{1/4} \\leq N$$"
   ]
  },
  {
   "cell_type": "code",
   "execution_count": null,
   "metadata": {
    "deletable": false,
    "editable": false,
    "nbgrader": {
     "cell_type": "code",
     "checksum": "7bae6d403108d5a6b4d784471a42c027",
     "grade": false,
     "grade_id": "cell-5793872130a87f74",
     "locked": true,
     "schema_version": 3,
     "solution": false,
     "task": false
    }
   },
   "outputs": [],
   "source": [
    "# Compute the inequality\n",
    "print((20000/15)**0.25, '< N')"
   ]
  },
  {
   "cell_type": "markdown",
   "metadata": {
    "deletable": false,
    "editable": false,
    "nbgrader": {
     "cell_type": "markdown",
     "checksum": "76788635d14b48a5c9319464d32cf581",
     "grade": false,
     "grade_id": "cell-1fe29b9111d7dc8d",
     "locked": true,
     "schema_version": 3,
     "solution": false,
     "task": false
    }
   },
   "source": [
    "### So let's compute Simpson's rule with $N = 8$ (the smallest even integer greater than $6.04$)"
   ]
  },
  {
   "cell_type": "code",
   "execution_count": null,
   "metadata": {
    "deletable": false,
    "editable": false,
    "nbgrader": {
     "cell_type": "code",
     "checksum": "01bf600502e31eb58ac7dc3abec3dfa0",
     "grade": false,
     "grade_id": "cell-a968fcefc4b9bebf",
     "locked": true,
     "schema_version": 3,
     "solution": false,
     "task": false
    }
   },
   "outputs": [],
   "source": [
    "approximation = simpson(lambda x : 1/x, 1, 2, 8)\n",
    "print('The approximate value is', approximation)"
   ]
  },
  {
   "cell_type": "markdown",
   "metadata": {
    "deletable": false,
    "editable": false,
    "nbgrader": {
     "cell_type": "markdown",
     "checksum": "29447273dfd543feee00efdc99fb2e9b",
     "grade": false,
     "grade_id": "cell-0dee6b221e679ed1",
     "locked": true,
     "schema_version": 3,
     "solution": false,
     "task": false
    }
   },
   "source": [
    "### Verify that $E_N^S(f) \\leq 0.0001$"
   ]
  },
  {
   "cell_type": "code",
   "execution_count": null,
   "metadata": {
    "deletable": false,
    "editable": false,
    "nbgrader": {
     "cell_type": "code",
     "checksum": "d4b71ba34002d5b6351bfce096de64b8",
     "grade": false,
     "grade_id": "cell-7e8cde4e33bb35e9",
     "locked": true,
     "schema_version": 3,
     "solution": false,
     "task": false
    }
   },
   "outputs": [],
   "source": [
    "error = abs(np.log(2) - approximation)\n",
    "print('The error is', error)\n",
    "print('Answer is', error <= 0.0001)"
   ]
  },
  {
   "cell_type": "markdown",
   "metadata": {
    "deletable": false,
    "editable": false,
    "nbgrader": {
     "cell_type": "markdown",
     "checksum": "f53ebb9cba02bcb23fc8933ecd560f53",
     "grade": false,
     "grade_id": "cell-ca76bcb38ecb9cab",
     "locked": true,
     "schema_version": 3,
     "solution": false,
     "task": false
    }
   },
   "source": [
    "# End"
   ]
  }
 ],
 "metadata": {
  "jupytext": {
   "text_representation": {
    "extension": ".py",
    "format_name": "light",
    "format_version": "1.4",
    "jupytext_version": "1.2.3"
   }
  },
  "kernelspec": {
   "display_name": "Python 3",
   "language": "python",
   "name": "python3"
  },
  "language_info": {
   "codemirror_mode": {
    "name": "ipython",
    "version": 3
   },
   "file_extension": ".py",
   "mimetype": "text/x-python",
   "name": "python",
   "nbconvert_exporter": "python",
   "pygments_lexer": "ipython3",
   "version": "3.7.4"
  }
 },
 "nbformat": 4,
 "nbformat_minor": 2
}
