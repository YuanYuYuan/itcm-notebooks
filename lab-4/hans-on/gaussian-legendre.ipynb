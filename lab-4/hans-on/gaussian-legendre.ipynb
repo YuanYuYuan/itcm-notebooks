{
 "cells": [
  {
   "cell_type": "markdown",
   "metadata": {
    "deletable": false,
    "editable": false,
    "nbgrader": {
     "cell_type": "markdown",
     "checksum": "fdcb33cd6eafe646633874b4bb2cd75f",
     "grade": false,
     "grade_id": "cell-be9b22b8a2232e31",
     "locked": true,
     "schema_version": 3,
     "solution": false,
     "task": false
    }
   },
   "source": [
    "# Numerical Integration: Gaussian–Legendre Quadrature\n",
    "---\n",
    "## Gaussian-Legendre quadrature is a numerical integration method also called the \"Gaussian quadrature\" or \"Legendre quadrature\".\n",
    "\n",
    "<img src=\"https://pic4.zhimg.com/v2-10260b396a3c8fb2e48618da85861338_1200x500.jpg\" width=500>"
   ]
  },
  {
   "cell_type": "markdown",
   "metadata": {
    "deletable": false,
    "editable": false,
    "nbgrader": {
     "cell_type": "markdown",
     "checksum": "e7d0741ea134d708c952dde8b7ec2d6e",
     "grade": false,
     "grade_id": "cell-9d3cd82d3640c6bc",
     "locked": true,
     "schema_version": 3,
     "solution": false,
     "task": false
    }
   },
   "source": [
    "---\n",
    "## Gaussian Quadrature\n",
    "\n",
    "### In numerical analysis, a quadrature rule is an approximation of the definite integral of a function, usually stated as a weighted sum of function values at specified points within the domain of integration.\n",
    "\n",
    "<img src=\"https://upload.wikimedia.org/wikipedia/commons/thumb/9/93/Comparison_Gaussquad_trapezoidal.svg/440px-Comparison_Gaussquad_trapezoidal.svg.png\" width=400>\n",
    "\n",
    "### The Gaussian quadrature rule is taken as $[-1,\\,1]$ and written in the form\n",
    "### $$G_n(f) = \\sum_{i = 1}^n w_i^{(n)} f(x_i^{(n)}) \\approx \\int_{-1}^1 f(x)\\,dx,$$\n",
    "### where the weight $w_i^{(n)}$ and Gaussian points $x_i^{(n)}$, and this form is exact for polynomials of degree $2n - 1$ or less.\n",
    "\n",
    "### This exact rule is known as the Gauss-Legendre quadrature rule. \n",
    "### The quadrature rule will only be an accurate approximation to the integral above if $f(x)$ is well-approximated by a polynomial of degree $2n - 1$ or less on $[-1,\\,1]$."
   ]
  },
  {
   "cell_type": "markdown",
   "metadata": {
    "deletable": false,
    "editable": false,
    "nbgrader": {
     "cell_type": "markdown",
     "checksum": "2150d9ec67ef3ecff1935f97272a9d05",
     "grade": false,
     "grade_id": "cell-4bc74f58e135be0b",
     "locked": true,
     "schema_version": 3,
     "solution": false,
     "task": false
    }
   },
   "source": [
    "---\n",
    "## Gaussian–Legendre Quadrature\n",
    "---\n",
    "### For the simplest integration problem stated above, i.e., $f(x)$ is well-approximated by polynomials on $[-1,\\,1]$, the associated orthogonal polynomials are Legendre polynomials, denoted by $P_n(x)$.\n",
    "\n",
    "### Legendre polynomials can be computed recursively, through following three-term relation\n",
    "$$P_0(x) = 1,\\,P_1(x) = x\\quad \\text{ and } \\quad P_n(x) = \\frac{2n - 1}{n}\\,x\\,P_{n - 1}(x) - \\frac{n - 1}{n}\\,P_{n - 2}(x) \\quad \\text{ where } n = 2,\\,3,\\,\\cdots$$\n",
    "\n",
    "<img src=\"https://pic4.zhimg.com/v2-10260b396a3c8fb2e48618da85861338_1200x500.jpg\" width=500>\n",
    "\n",
    "### With the $n$-th polynomial normalized to give $P_n(1) = 1$ , the $i$-th Gauss node, $x_i$, is the $i$-th root of $P_n$ and the weights are given by the formula\n",
    "### $$w_i = \\frac{2}{(1 - x_i^2)[P_n'(x_i)]^2}$$\n",
    "\n",
    "### Some low-order quadrature rules are tabulated below (over interval $[−1,\\, 1]$, see the section below for other intervals).\n",
    "\n",
    "#### More information: [link](https://en.wikipedia.org/wiki/Gaussian_quadrature#Gauss%E2%80%93Legendre_quadrature) "
   ]
  },
  {
   "cell_type": "markdown",
   "metadata": {
    "deletable": false,
    "editable": false,
    "nbgrader": {
     "cell_type": "markdown",
     "checksum": "85add68192f3baf176d743d596238540",
     "grade": false,
     "grade_id": "cell-c9c610450741e187",
     "locked": true,
     "schema_version": 3,
     "solution": false,
     "task": false
    }
   },
   "source": [
    "---\n",
    "## Implementation"
   ]
  },
  {
   "cell_type": "markdown",
   "metadata": {
    "deletable": false,
    "editable": false,
    "nbgrader": {
     "cell_type": "markdown",
     "checksum": "1ffe7b4de789287c70bccc872755a37c",
     "grade": false,
     "grade_id": "cell-b91e0436ebf19931",
     "locked": true,
     "schema_version": 3,
     "solution": false,
     "task": false
    }
   },
   "source": [
    "### Part 0. Import necessary libraries"
   ]
  },
  {
   "cell_type": "code",
   "execution_count": null,
   "metadata": {
    "deletable": false,
    "editable": false,
    "nbgrader": {
     "cell_type": "code",
     "checksum": "cc6d324883a9c0c0c1d0a29e8289962d",
     "grade": false,
     "grade_id": "cell-0d11c0791892ea53",
     "locked": true,
     "schema_version": 3,
     "solution": false,
     "task": false
    }
   },
   "outputs": [],
   "source": [
    "import numpy as np\n",
    "import matplotlib.pyplot as plt\n",
    "\n",
    "# This library is used to get the weights and point of Gaussian–Legendre\n",
    "from scipy.special.orthogonal import p_roots"
   ]
  },
  {
   "cell_type": "markdown",
   "metadata": {
    "deletable": false,
    "editable": false,
    "nbgrader": {
     "cell_type": "markdown",
     "checksum": "6f354bcae978f35b586cf2c31cc09172",
     "grade": false,
     "grade_id": "cell-58429bea664e64ea",
     "locked": true,
     "schema_version": 3,
     "solution": false,
     "task": false
    }
   },
   "source": [
    "#### The reference of <code>scipy.special.orthogonal.p_roots</code>: [link](https://docs.scipy.org/doc/scipy-0.18.1/reference/generated/scipy.special.p_roots.html)"
   ]
  },
  {
   "cell_type": "markdown",
   "metadata": {
    "deletable": false,
    "editable": false,
    "nbgrader": {
     "cell_type": "markdown",
     "checksum": "c6bb15a125f3872b070ef26538cde2ba",
     "grade": false,
     "grade_id": "cell-fa419ffda3bd5690",
     "locked": true,
     "schema_version": 3,
     "solution": false,
     "task": false
    }
   },
   "source": [
    "### Part 1. Implement Legendre polynomial"
   ]
  },
  {
   "cell_type": "code",
   "execution_count": null,
   "metadata": {
    "deletable": false,
    "nbgrader": {
     "cell_type": "code",
     "checksum": "886149075dbd590ae643d76708bea396",
     "grade": false,
     "grade_id": "cell-324031761b1db8d5",
     "locked": false,
     "schema_version": 3,
     "solution": true,
     "task": false
    }
   },
   "outputs": [],
   "source": [
    "def Legendre(\n",
    "    n,\n",
    "    x\n",
    "):\n",
    "    '''\n",
    "    Parameters\n",
    "    ----------\n",
    "    n : integer\n",
    "        degree\n",
    "    x : float\n",
    "        a point or points\n",
    "        \n",
    "    Returns\n",
    "    -------\n",
    "    float\n",
    "    '''\n",
    "    # ===== 請實做程式 =====\n",
    "    \n",
    "    # ===================="
   ]
  },
  {
   "cell_type": "markdown",
   "metadata": {
    "deletable": false,
    "editable": false,
    "nbgrader": {
     "cell_type": "markdown",
     "checksum": "6b65d793a94704ffc1aa08e1cc51b3b2",
     "grade": false,
     "grade_id": "cell-b7af47dc228b7fd3",
     "locked": true,
     "schema_version": 3,
     "solution": false,
     "task": false
    }
   },
   "source": [
    "### Plot the Legendre polynomials of degree 0 to 5 on the interval $[-1,\\,1]$"
   ]
  },
  {
   "cell_type": "code",
   "execution_count": null,
   "metadata": {
    "deletable": false,
    "editable": false,
    "nbgrader": {
     "cell_type": "code",
     "checksum": "42ee74ed249537aed523b676a26277c3",
     "grade": false,
     "grade_id": "cell-a06eb4131baa4a31",
     "locked": true,
     "schema_version": 3,
     "solution": false,
     "task": false
    }
   },
   "outputs": [],
   "source": [
    "# Set the range of x to [-1,1]\n",
    "x_range = np.arange(-1, 1, 0.01)\n",
    "fig, ax = plt.subplots(figsize=(16, 9))\n",
    "\n",
    "# Plot Legendre polynomials of degree 0 to 5\n",
    "for n in range(6):\n",
    "    ax.plot(x_range, Legendre(n, x_range), label = '$P_{'+str(n)+'}(x)$')\n",
    "\n",
    "# Add other text and items\n",
    "ax.set_title('Legendre polynomials of degree 0 to 5 on the [-1, 1]')\n",
    "plt.legend(loc='lower right')\n",
    "ax.grid(True)\n",
    "ax.axhline(y=0)\n",
    "ax.axvline(x=0)\n",
    "plt.show()"
   ]
  },
  {
   "cell_type": "markdown",
   "metadata": {},
   "source": [
    "### Part 2. Implement Gaussian–Legendre quadrature on the interval $[-1,\\,1]$"
   ]
  },
  {
   "cell_type": "code",
   "execution_count": null,
   "metadata": {
    "deletable": false,
    "nbgrader": {
     "cell_type": "code",
     "checksum": "75aebffc19fdd27792dd049ac8fc0660",
     "grade": false,
     "grade_id": "cell-bace015caf07f082",
     "locked": false,
     "schema_version": 3,
     "solution": true,
     "task": false
    }
   },
   "outputs": [],
   "source": [
    "def gauss1(\n",
    "    f,\n",
    "    n\n",
    "):\n",
    "    '''\n",
    "    Parameters\n",
    "    ----------\n",
    "    f : function\n",
    "        Vectorized function of a single variable\n",
    "    n : integer\n",
    "        Number of points\n",
    "\n",
    "    Returns\n",
    "    -------\n",
    "    G : float\n",
    "        Approximation of the integral of f(x) from a to b using the\n",
    "        Gaussian–Legendre quadrature rule with N points.\n",
    "    '''\n",
    "    # ===== 請實做程式 =====\n",
    "    \n",
    "    # ====================\n",
    "    return G"
   ]
  },
  {
   "cell_type": "markdown",
   "metadata": {
    "deletable": false,
    "editable": false,
    "nbgrader": {
     "cell_type": "markdown",
     "checksum": "3babfc3d4bdfda4a1ceee113bc6702a2",
     "grade": false,
     "grade_id": "cell-b8081567d741c327",
     "locked": true,
     "schema_version": 3,
     "solution": false,
     "task": false
    }
   },
   "source": [
    "---\n",
    "## Example\n",
    "\n",
    "### 1. Compute the function on integrals for which we know the exact value.\n",
    "### $$\\int_1^{-1}\\,x^2\\,dx = \\frac{2}{3}$$ "
   ]
  },
  {
   "cell_type": "code",
   "execution_count": null,
   "metadata": {
    "deletable": false,
    "editable": false,
    "nbgrader": {
     "cell_type": "code",
     "checksum": "fa2d4d2dad7962cad8dde7b85f3ceb6a",
     "grade": false,
     "grade_id": "cell-72a8d9b44bf917f3",
     "locked": true,
     "schema_version": 3,
     "solution": false,
     "task": false
    }
   },
   "outputs": [],
   "source": [
    "for n in range(1, 11):\n",
    "    approximation = gauss1(lambda x : x**2, n)\n",
    "    print('The approximate value of n =', n, 'is', approximation)"
   ]
  },
  {
   "cell_type": "markdown",
   "metadata": {
    "deletable": false,
    "editable": false,
    "nbgrader": {
     "cell_type": "markdown",
     "checksum": "e4c8417c750ff00d2e65cfd91c215f77",
     "grade": false,
     "grade_id": "cell-00ac34f8da773a80",
     "locked": true,
     "schema_version": 3,
     "solution": false,
     "task": false
    }
   },
   "source": [
    "---\n",
    "### Part 3. Implement Gaussian–Legendre quadrature on the interval $[a,\\,b]$\n",
    "\n",
    "### This change of interval can be done in the following way:\n",
    "### $$\\int_a^b\\,f(x)\\,dx = \\frac{b - a}{2}\\,\\int_1^{-1}\\,f\\left( \\frac{b - a}{2} x + \\frac{a + b}{2}\\right)\\,dx$$\n",
    "\n",
    "### Applying the Gaussian quadrature rule then results in the following approximation:\n",
    "### $$\\int_a^b\\,f(x)\\,dx \\approx \\sum_{i = 1}^n w_i\\,f\\left( \\frac{a + b}{2}x_i + \\frac{a + b}{2} \\right)$$"
   ]
  },
  {
   "cell_type": "code",
   "execution_count": null,
   "metadata": {
    "deletable": false,
    "nbgrader": {
     "cell_type": "code",
     "checksum": "142d61373f88e55faa2cf6b47268758b",
     "grade": false,
     "grade_id": "cell-fe3c11dbb8da8607",
     "locked": false,
     "schema_version": 3,
     "solution": true,
     "task": false
    }
   },
   "outputs": [],
   "source": [
    "def gauss(\n",
    "    f,\n",
    "    n,\n",
    "    a,\n",
    "    b\n",
    "):\n",
    "    '''\n",
    "    Parameters\n",
    "    ----------\n",
    "    f : function\n",
    "        Vectorized function of a single variable\n",
    "    n : integer\n",
    "        Number of points\n",
    "    a , b : numbers\n",
    "        Interval of integration [a,b]\n",
    "\n",
    "    Returns\n",
    "    -------\n",
    "    G : float\n",
    "        Approximation of the integral of f(x) from a to b using the\n",
    "        Gaussian–Legendre quadrature rule with N points.\n",
    "    '''\n",
    "    # ===== 請實做程式 =====\n",
    "    \n",
    "    # ====================\n",
    "    return G"
   ]
  },
  {
   "cell_type": "markdown",
   "metadata": {
    "deletable": false,
    "editable": false,
    "nbgrader": {
     "cell_type": "markdown",
     "checksum": "053f54057229e1a31d9f913471648bcd",
     "grade": false,
     "grade_id": "cell-25ec17bf04b28715",
     "locked": true,
     "schema_version": 3,
     "solution": false,
     "task": false
    }
   },
   "source": [
    "---\n",
    "## Example\n",
    "### 1. Compute another function on integrals for which we know the exact value.\n",
    "### $$\\int_0^{\\frac{\\pi}{2}}\\,\\sin x\\,dx = 1$$"
   ]
  },
  {
   "cell_type": "code",
   "execution_count": null,
   "metadata": {
    "deletable": false,
    "editable": false,
    "nbgrader": {
     "cell_type": "code",
     "checksum": "0f039b8af6fc1facbf0bb64175b99726",
     "grade": false,
     "grade_id": "cell-88f84943424ef8a0",
     "locked": true,
     "schema_version": 3,
     "solution": false,
     "task": false
    }
   },
   "outputs": [],
   "source": [
    "for n in range(1, 11):\n",
    "    approximation = gauss(np.sin, n, 0, np.pi/2)\n",
    "    print('The approximate value of n =', n, 'is', approximation)"
   ]
  },
  {
   "cell_type": "markdown",
   "metadata": {
    "deletable": false,
    "editable": false,
    "nbgrader": {
     "cell_type": "markdown",
     "checksum": "ef35c07a88945ff2246c59658a29ce94",
     "grade": false,
     "grade_id": "cell-e20ee1d99e00bd10",
     "locked": true,
     "schema_version": 3,
     "solution": false,
     "task": false
    }
   },
   "source": [
    "## End"
   ]
  }
 ],
 "metadata": {
  "kernelspec": {
   "display_name": "Python 3",
   "language": "python",
   "name": "python3"
  },
  "language_info": {
   "codemirror_mode": {
    "name": "ipython",
    "version": 3
   },
   "file_extension": ".py",
   "mimetype": "text/x-python",
   "name": "python",
   "nbconvert_exporter": "python",
   "pygments_lexer": "ipython3",
   "version": "3.7.4"
  }
 },
 "nbformat": 4,
 "nbformat_minor": 2
}
