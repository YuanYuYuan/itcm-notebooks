{
 "cells": [
  {
   "cell_type": "markdown",
   "metadata": {},
   "source": [
    "# Lab 3\n",
    "\n",
    "1. 提交作業之前，建議可以先點選上方工具列的**Kernel**，再選擇**Restart & Run All**，檢查一下是否程式跑起來都沒有問題，最後記得儲存。\n",
    "2. 請先填上下方的姓名(name)及學號(stduent_id)再開始作答，例如：\n",
    "```python\n",
    "name = \"我的名字\"\n",
    "student_id= \"B06201000\"\n",
    "```\n",
    "3. 演算法的實作可以參考[lab-3](https://yuanyuyuan.github.io/itcm/lab-3.html), 有任何問題歡迎找助教詢問。\n",
    "4. **Deadline: 10/30(Wed.)**"
   ]
  },
  {
   "cell_type": "code",
   "execution_count": null,
   "metadata": {},
   "outputs": [],
   "source": [
    "name = \"\"\n",
    "student_id = \"\""
   ]
  },
  {
   "cell_type": "markdown",
   "metadata": {},
   "source": [
    "---"
   ]
  },
  {
   "cell_type": "markdown",
   "metadata": {
    "deletable": false,
    "editable": false,
    "nbgrader": {
     "cell_type": "markdown",
     "checksum": "00249cb094f01aed972e786561454bde",
     "grade": false,
     "grade_id": "cell-f17391a253555794",
     "locked": true,
     "schema_version": 3,
     "solution": false,
     "task": false
    }
   },
   "source": [
    "# Exercise 1"
   ]
  },
  {
   "cell_type": "markdown",
   "metadata": {
    "deletable": false,
    "editable": false,
    "nbgrader": {
     "cell_type": "markdown",
     "checksum": "7acf1981ef8d84bd7c87eaed5e5d53c1",
     "grade": false,
     "grade_id": "cell-ea22cb08dbcbc1e0",
     "locked": true,
     "schema_version": 3,
     "solution": false,
     "task": false
    }
   },
   "source": [
    "## Let $g(x)=\\ln(4+x-x^2)$ and $\\alpha$ is a fixed point of $g(x)$ i.e. $\\alpha = g(\\alpha).$ \n",
    "\n",
    "- ### Part A. Implement your fixed-point algorithm and solve it with initial guess $x_0=2$ within tolerance $10^{-10}$, and answer the questions of error behavior analysis below.\n",
    "- ### Part B. Redo Part A. by applying Aitken's acceleration.\n",
    "\n",
    "---"
   ]
  },
  {
   "cell_type": "markdown",
   "metadata": {
    "deletable": false,
    "editable": false,
    "nbgrader": {
     "cell_type": "markdown",
     "checksum": "3f4666307bc2fdaa253d8ea0941eb790",
     "grade": false,
     "grade_id": "cell-367ceedba14c2ed8",
     "locked": true,
     "schema_version": 3,
     "solution": false,
     "task": false
    }
   },
   "source": [
    "### Import libraries"
   ]
  },
  {
   "cell_type": "code",
   "execution_count": null,
   "metadata": {
    "deletable": false,
    "editable": false,
    "lines_to_next_cell": 1,
    "nbgrader": {
     "cell_type": "code",
     "checksum": "b965acb1bda698d1148a8719b1c3b468",
     "grade": false,
     "grade_id": "cell-900fda9f47bb3e5f",
     "locked": true,
     "schema_version": 3,
     "solution": false,
     "task": false
    }
   },
   "outputs": [],
   "source": [
    "import numpy as np\n",
    "import matplotlib.pyplot as plt"
   ]
  },
  {
   "cell_type": "markdown",
   "metadata": {
    "deletable": false,
    "editable": false,
    "nbgrader": {
     "cell_type": "markdown",
     "checksum": "d2530846933107956476fb83fc2a80c1",
     "grade": false,
     "grade_id": "cell-2a092a1019fff0bf",
     "locked": true,
     "schema_version": 3,
     "solution": false,
     "task": false
    }
   },
   "source": [
    "### Implement the target function $g(x)=\\ln(4+x-x^2)$"
   ]
  },
  {
   "cell_type": "code",
   "execution_count": null,
   "metadata": {
    "deletable": false,
    "nbgrader": {
     "cell_type": "code",
     "checksum": "20c3cfdc2e1220d46f20b9f1318007dd",
     "grade": false,
     "grade_id": "cell-07da59b434940496",
     "locked": false,
     "schema_version": 3,
     "solution": true,
     "task": false
    }
   },
   "outputs": [],
   "source": [
    "def g(x):\n",
    "    # ===== 請實做程式 =====\n",
    "    \n",
    "    # ===================="
   ]
  },
  {
   "cell_type": "code",
   "execution_count": null,
   "metadata": {
    "deletable": false,
    "editable": false,
    "nbgrader": {
     "cell_type": "code",
     "checksum": "316440038bf5bd408ce59737daf68dec",
     "grade": true,
     "grade_id": "cell-c0f08330aec65e17",
     "locked": true,
     "points": 1,
     "schema_version": 3,
     "solution": false,
     "task": false
    }
   },
   "outputs": [],
   "source": [
    "assert round(g(0), 4) == 1.3863"
   ]
  },
  {
   "cell_type": "markdown",
   "metadata": {
    "deletable": false,
    "editable": false,
    "nbgrader": {
     "cell_type": "markdown",
     "checksum": "5508682b5241570d66bd1692a8144ba7",
     "grade": false,
     "grade_id": "cell-53ed89da5b90b53f",
     "locked": true,
     "schema_version": 3,
     "solution": false,
     "task": false
    }
   },
   "source": [
    "### Run built-in [fixed-point method](https://docs.scipy.org/doc/scipy/reference/generated/scipy.optimize.fixed_point.html#rf001026ae057-1) with Python SciPy, and use this accurate value as the fixed point $\\alpha$"
   ]
  },
  {
   "cell_type": "code",
   "execution_count": null,
   "metadata": {
    "deletable": false,
    "editable": false,
    "nbgrader": {
     "cell_type": "code",
     "checksum": "9074e9b94941d5361c5155c6ffebba68",
     "grade": false,
     "grade_id": "cell-e84871685076d6b9",
     "locked": true,
     "schema_version": 3,
     "solution": false,
     "task": false
    }
   },
   "outputs": [],
   "source": [
    "from scipy import optimize\n",
    "alpha = optimize.fixed_point(g, x0=2, xtol=1e-12)\n",
    "print('The fixed point is', alpha)"
   ]
  },
  {
   "cell_type": "markdown",
   "metadata": {
    "deletable": false,
    "editable": false,
    "nbgrader": {
     "cell_type": "markdown",
     "checksum": "d9b0eb9c1dfb9211a204cbb68b0189dd",
     "grade": false,
     "grade_id": "cell-ed5e94576957ff4e",
     "locked": true,
     "schema_version": 3,
     "solution": false,
     "task": false
    }
   },
   "source": [
    "### Visualization"
   ]
  },
  {
   "cell_type": "code",
   "execution_count": null,
   "metadata": {
    "deletable": false,
    "editable": false,
    "nbgrader": {
     "cell_type": "code",
     "checksum": "9732e268ffd4ec69ebc141aa9352778d",
     "grade": false,
     "grade_id": "cell-0a4c14a61cc42142",
     "locked": true,
     "schema_version": 3,
     "solution": false,
     "task": false
    }
   },
   "outputs": [],
   "source": [
    "x_range = np.arange(1, 2.25, 0.01)\n",
    "plt.figure(figsize=(16, 9))\n",
    "plt.title(r'Solve $y=g(x)$')\n",
    "plt.plot(x_range, g(x_range), label=r'$y=f(x)$')\n",
    "plt.plot(x_range, x_range, label=r'$y=x$')\n",
    "plt.plot(alpha, g(alpha), 'bo', label='fixed point')\n",
    "plt.plot(2.0, g(2.0), 'r^', label='starting point')\n",
    "plt.axvline(x=alpha, linestyle='--', label=r'$y=\\alpha$')\n",
    "plt.gca().legend()\n",
    "plt.grid()\n",
    "plt.show()"
   ]
  },
  {
   "cell_type": "markdown",
   "metadata": {
    "deletable": false,
    "editable": false,
    "nbgrader": {
     "cell_type": "markdown",
     "checksum": "b62bacdd955aacac58750a09a1d51f74",
     "grade": false,
     "grade_id": "cell-525611481eec349a",
     "locked": true,
     "schema_version": 3,
     "solution": false,
     "task": false
    }
   },
   "source": [
    "---\n",
    "\n",
    "## Part A."
   ]
  },
  {
   "cell_type": "markdown",
   "metadata": {
    "deletable": false,
    "editable": false,
    "nbgrader": {
     "cell_type": "markdown",
     "checksum": "aeadf7512e5e52093469a0ebdf2bbe2d",
     "grade": false,
     "grade_id": "cell-d1cfc4a9ce4ee2e7",
     "locked": true,
     "points": 5,
     "schema_version": 3,
     "solution": false,
     "task": true
    }
   },
   "source": [
    "### 1. Find the fixed point of $g(x)$ using your fixed-point iteration to within tolerance $10^{-10}$ with initial guess $x_0=2$."
   ]
  },
  {
   "cell_type": "markdown",
   "metadata": {
    "deletable": false,
    "editable": false,
    "nbgrader": {
     "cell_type": "markdown",
     "checksum": "70f3f27b83f69454b846b0687720dec2",
     "grade": false,
     "grade_id": "cell-36b3bd397090eab3",
     "locked": true,
     "schema_version": 3,
     "solution": false,
     "task": false
    }
   },
   "source": [
    "#### 1-1. Implement the fixed point method"
   ]
  },
  {
   "cell_type": "code",
   "execution_count": null,
   "metadata": {
    "deletable": false,
    "nbgrader": {
     "cell_type": "code",
     "checksum": "d2bce7c55c4803f52091acea5be7d10b",
     "grade": false,
     "grade_id": "cell-a6170a4c3abf32bb",
     "locked": false,
     "schema_version": 3,
     "solution": true,
     "task": false
    }
   },
   "outputs": [],
   "source": [
    "def fixed_point(\n",
    "    func,\n",
    "    x_0,\n",
    "    tolerance=1e-7,\n",
    "    max_iterations=5,\n",
    "):\n",
    "    '''Find the fixed point of the given function func\n",
    "\n",
    "    Parameters\n",
    "    ----------\n",
    "    func : function\n",
    "        The target function.\n",
    "    x_0 : float\n",
    "        Initial guess point for a solution func(x)=x.\n",
    "    tolerance: float\n",
    "        One of the termination conditions. Error tolerance.\n",
    "    max_iterations : (positive) integer\n",
    "        One of the termination conditions. The amount of iterations allowed.\n",
    "\n",
    "    Returns\n",
    "    -------\n",
    "    solution : float\n",
    "        Approximation of the root.\n",
    "    history: dict\n",
    "        Return history of the solving process\n",
    "        history: {'x_n': list}\n",
    "    '''\n",
    "\n",
    "    # ===== 請實做程式 =====\n",
    "    \n",
    "    # ===================="
   ]
  },
  {
   "cell_type": "markdown",
   "metadata": {
    "deletable": false,
    "editable": false,
    "nbgrader": {
     "cell_type": "markdown",
     "checksum": "bb14faa40dcfb97684fa5e6cec3155cd",
     "grade": false,
     "grade_id": "cell-95f2aab92988fa31",
     "locked": true,
     "schema_version": 3,
     "solution": false,
     "task": false
    }
   },
   "source": [
    "#### 1-2. Find the root"
   ]
  },
  {
   "cell_type": "code",
   "execution_count": null,
   "metadata": {
    "deletable": false,
    "nbgrader": {
     "cell_type": "code",
     "checksum": "9e3c0a8e614ece2f573561f18b46ecf7",
     "grade": false,
     "grade_id": "cell-310762e452216efc",
     "locked": false,
     "schema_version": 3,
     "solution": true,
     "task": false
    }
   },
   "outputs": [],
   "source": [
    "solution, history = fixed_point(\n",
    "    # ===== 請實做程式 =====\n",
    "    \n",
    "    # ====================\n",
    ")"
   ]
  },
  {
   "cell_type": "code",
   "execution_count": null,
   "metadata": {
    "deletable": false,
    "editable": false,
    "lines_to_next_cell": 2,
    "nbgrader": {
     "cell_type": "code",
     "checksum": "18dc214ef43e71ac6419236c5af3dccd",
     "grade": true,
     "grade_id": "cell-2d72f68109ee500c",
     "locked": true,
     "points": 1,
     "schema_version": 3,
     "solution": false,
     "task": false
    }
   },
   "outputs": [],
   "source": [
    "print('My estimation is', solution)"
   ]
  },
  {
   "cell_type": "markdown",
   "metadata": {
    "deletable": false,
    "editable": false,
    "nbgrader": {
     "cell_type": "markdown",
     "checksum": "54017a9cc7112d7cb39df2343a43fccf",
     "grade": false,
     "grade_id": "cell-e2663e6c5a56e09f",
     "locked": true,
     "points": 2,
     "schema_version": 3,
     "solution": false,
     "task": true
    }
   },
   "source": [
    "### 2. Estimate graphically the asymptotic error constant C \n",
    "### $$\\lim_{n\\to\\infty} \\frac{|x_{n+1} - \\alpha|}{|x_{n} - \\alpha|} = C$$"
   ]
  },
  {
   "cell_type": "code",
   "execution_count": null,
   "metadata": {
    "deletable": false,
    "lines_to_next_cell": 2,
    "nbgrader": {
     "cell_type": "code",
     "checksum": "a2cffa8793b8a6d22c82f71e1fe5b7ab",
     "grade": false,
     "grade_id": "cell-6a067de2a49274b5",
     "locked": false,
     "schema_version": 3,
     "solution": true,
     "task": false
    }
   },
   "outputs": [],
   "source": [
    "'''\n",
    "Hint:\n",
    "    1. Prepare the sequences: x_n(from the history of algorithm)\n",
    "    2. Compute the error of sequence: e_n\n",
    "    3. Compute the sequence: e_{n+1}/e_{n}\n",
    "    4. Plot the curve\n",
    "    5. Fill in the name of x,y axes\n",
    "    6. Show the plot\n",
    "''' \n",
    "# ===== 請實做程式 =====\n",
    "\n",
    "# ===================="
   ]
  },
  {
   "cell_type": "markdown",
   "metadata": {
    "deletable": false,
    "editable": false,
    "nbgrader": {
     "cell_type": "markdown",
     "checksum": "66d04864cb5aa943ba7e9496a19e6192",
     "grade": false,
     "grade_id": "cell-38deeec26f61aacb",
     "locked": true,
     "schema_version": 3,
     "solution": false,
     "task": false
    }
   },
   "source": [
    "---\n",
    "\n",
    "## Part B."
   ]
  },
  {
   "cell_type": "markdown",
   "metadata": {
    "deletable": false,
    "editable": false,
    "nbgrader": {
     "cell_type": "markdown",
     "checksum": "6a67d5e1a9db0cdb87b64ae0870023c0",
     "grade": false,
     "grade_id": "cell-5c253083a9881e4b",
     "locked": true,
     "points": 5,
     "schema_version": 3,
     "solution": false,
     "task": true
    }
   },
   "source": [
    "### 1. Accelerate the convergence of the sequence $\\{x_n\\}$ obtained in _Part A._ using Aitken's  $\\Delta^2$ method, yielding sequence $\\{\\hat{x}_n\\}$. "
   ]
  },
  {
   "cell_type": "markdown",
   "metadata": {
    "deletable": false,
    "editable": false,
    "nbgrader": {
     "cell_type": "markdown",
     "checksum": "da57bc008631e25c94bbb1442b9bb0cf",
     "grade": false,
     "grade_id": "cell-6f3f4c6989ee4174",
     "locked": true,
     "schema_version": 3,
     "solution": false,
     "task": false
    }
   },
   "source": [
    "#### 1-1. Introduce Aitken's acceleration into the original method."
   ]
  },
  {
   "cell_type": "code",
   "execution_count": null,
   "metadata": {
    "deletable": false,
    "nbgrader": {
     "cell_type": "code",
     "checksum": "a371765a42e0cc4a813e4be3a6c531d2",
     "grade": false,
     "grade_id": "cell-d90669ed0519db80",
     "locked": false,
     "schema_version": 3,
     "solution": true,
     "task": false
    }
   },
   "outputs": [],
   "source": [
    "def aitken(\n",
    "    func,\n",
    "    x_0,\n",
    "    tolerance=1e-7,\n",
    "    max_iterations=5,\n",
    "):\n",
    "    '''Approximate solution of f(x)=0 on interval [a,b] by the secant method.\n",
    "\n",
    "    Parameters\n",
    "    ----------\n",
    "    func : function\n",
    "        The target function.\n",
    "    x_0 : float\n",
    "        Initial guess point for a solution f(x)=x.\n",
    "    tolerance: float\n",
    "        One of the termination conditions. Error tolerance.\n",
    "    max_iterations : (positive) integer\n",
    "        One of the termination conditions. The amount of iterations allowed.\n",
    "\n",
    "    Returns\n",
    "    -------\n",
    "    solution : float\n",
    "        Approximation of the root.\n",
    "    history: dict\n",
    "        Return history of the solving process\n",
    "        history: {'x_n': list}\n",
    "    '''\n",
    "\n",
    "    # ===== 請實做程式 =====\n",
    "    \n",
    "    # ===================="
   ]
  },
  {
   "cell_type": "markdown",
   "metadata": {
    "deletable": false,
    "editable": false,
    "nbgrader": {
     "cell_type": "markdown",
     "checksum": "a323061459e59880bcabd8731ea9915e",
     "grade": false,
     "grade_id": "cell-dde8de363e1aa408",
     "locked": true,
     "schema_version": 3,
     "solution": false,
     "task": false
    }
   },
   "source": [
    "#### 1-2. Find the root"
   ]
  },
  {
   "cell_type": "code",
   "execution_count": null,
   "metadata": {
    "deletable": false,
    "nbgrader": {
     "cell_type": "code",
     "checksum": "e71a9f9854ecbefd8746b32778aed1f8",
     "grade": false,
     "grade_id": "cell-0767f880d4679e22",
     "locked": false,
     "schema_version": 3,
     "solution": true,
     "task": false
    }
   },
   "outputs": [],
   "source": [
    "solution, history = aitken(\n",
    "    # ===== 請實做程式 =====\n",
    "    \n",
    "    # ====================\n",
    ")"
   ]
  },
  {
   "cell_type": "code",
   "execution_count": null,
   "metadata": {
    "deletable": false,
    "editable": false,
    "nbgrader": {
     "cell_type": "code",
     "checksum": "5b9887e779b87dbc2b7635d08ed0459b",
     "grade": true,
     "grade_id": "cell-5c862e35ba0aa7d9",
     "locked": true,
     "points": 1,
     "schema_version": 3,
     "solution": false,
     "task": false
    }
   },
   "outputs": [],
   "source": [
    "print('My estimation is', solution)"
   ]
  },
  {
   "cell_type": "markdown",
   "metadata": {
    "deletable": false,
    "editable": false,
    "nbgrader": {
     "cell_type": "markdown",
     "checksum": "137b4749043a835c67ab27626d2f758f",
     "grade": false,
     "grade_id": "cell-3f9cc855aa78c025",
     "locked": true,
     "points": 2,
     "schema_version": 3,
     "solution": false,
     "task": true
    }
   },
   "source": [
    "### 2. Plot the error curves of each algorithm w.r.t iterations $n$ in log scale to compare the convergence rates. You may see a figure like the one in our lecture.\n",
    "\n",
    "<figure>\n",
    "  <img src=\"aitken.png\" style=\"width:60%\">\n",
    "    <figcaption>Ref. Page15 of <a href=\"https://ceiba.ntu.edu.tw/course/7a770d/content/cmath2019_note1_aitken.pdf\">cmath2019_note1_aitken.pdf</a></figcaption>\n",
    "</figure>"
   ]
  },
  {
   "cell_type": "code",
   "execution_count": null,
   "metadata": {
    "deletable": false,
    "nbgrader": {
     "cell_type": "code",
     "checksum": "8446b7973c8be82496c7cb963a2412cb",
     "grade": false,
     "grade_id": "cell-6f495072de649c1e",
     "locked": false,
     "schema_version": 3,
     "solution": true,
     "task": false
    }
   },
   "outputs": [],
   "source": [
    "'''\n",
    "Hint:\n",
    "    1. Prepare the sequences: x_n, x_n_hat(from the history of each algorithm)\n",
    "    2. Compute the error of sequences: e_n, e_n_hat\n",
    "    3. Plot the curves of e_n, e_n_hat respectively\n",
    "    4. Change scale into log\n",
    "    5. Fill in the name of x,y axes\n",
    "    6. Enable legend(show curve names)\n",
    "    7. Show the plot\n",
    "''' \n",
    "# ===== 請實做程式 =====\n",
    "\n",
    "# ===================="
   ]
  }
 ],
 "metadata": {
  "jupytext": {
   "text_representation": {
    "extension": ".py",
    "format_name": "light",
    "format_version": "1.4",
    "jupytext_version": "1.2.3"
   }
  },
  "kernelspec": {
   "display_name": "Python 3",
   "language": "python",
   "name": "python3"
  },
  "language_info": {
   "codemirror_mode": {
    "name": "ipython",
    "version": 3
   },
   "file_extension": ".py",
   "mimetype": "text/x-python",
   "name": "python",
   "nbconvert_exporter": "python",
   "pygments_lexer": "ipython3",
   "version": "3.7.4"
  }
 },
 "nbformat": 4,
 "nbformat_minor": 2
}
