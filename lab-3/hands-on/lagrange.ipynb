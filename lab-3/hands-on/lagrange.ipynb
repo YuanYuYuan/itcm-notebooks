{
 "cells": [
  {
   "cell_type": "markdown",
   "metadata": {
    "deletable": false,
    "editable": false,
    "nbgrader": {
     "cell_type": "markdown",
     "checksum": "991bbdcfc7f9d3f9e3ebc1c1df1be605",
     "grade": false,
     "grade_id": "cell-3f9f486447f3c8c7",
     "locked": true,
     "schema_version": 3,
     "solution": false,
     "task": false
    }
   },
   "source": [
    "# Lagrange Polynomial Interpolation\n",
    "\n",
    "Given a set of points $(x_i, y_i)$ and $x_i \\neq x_j$ for all $i \\neq j$, the __Lagrange Polynomial Interpolation__ is the polynomial of lowest degree that assumes at each value $x_i$ the corresponding value $y_i$.\n",
    "\n",
    "<img src=\"https://upload.wikimedia.org/wikipedia/commons/thumb/2/23/Runge%27s_phenomenon_in_Lagrange_polynomials.svg/440px-Runge%27s_phenomenon_in_Lagrange_polynomials.svg.png\" width=500>\n"
   ]
  },
  {
   "cell_type": "markdown",
   "metadata": {
    "deletable": false,
    "editable": false,
    "nbgrader": {
     "cell_type": "markdown",
     "checksum": "e9a11b591839fa15f1f54857bd354acb",
     "grade": false,
     "grade_id": "cell-96c7d6e25713dc32",
     "locked": true,
     "schema_version": 3,
     "solution": false,
     "task": false
    }
   },
   "source": [
    "## Lagrange form\n",
    "\n",
    "Lagrange form of interpolating polynomial is\n",
    "    $$p_n(x) = \\sum_{i = 1}^{n} l_j(x) f_j$$\n",
    "    \n",
    "with cardinal functions\n",
    "    $$\\begin{aligned}\n",
    "    l_j(x)\n",
    "    &= \\left( \\frac{x - x_0}{x_j - x_0} \\right)\n",
    "       \\left( \\frac{x - x_1}{x_j - x_1} \\right)\n",
    "       \\cdots\n",
    "       \\left( \\frac{x - x_{n-1}}{x_j - x_{n-1}} \\right)\n",
    "       \\left( \\frac{x - x_n}{x_j - x_n} \\right)\\\\\n",
    "    &= \\prod_{k = 0,\\ k\\neq j}^{n}\n",
    "       \\left( \\frac{x - x_k}{x_j - x_k} \\right),\n",
    "       \\quad \\quad j = 0, 1, \\dots, n\n",
    "    \\end{aligned}$$\n",
    "\n",
    "that obeys Kronecker delta function\n",
    "    $$l_j(x_k)\n",
    "    = \\delta_{jk}\n",
    "    = \\left\\{ \\begin{matrix}\n",
    "    0 && \\text{if } j \\neq k\\\\\n",
    "    1 && \\text{if } j = k\n",
    "    \\end{matrix} \\right.$$"
   ]
  },
  {
   "cell_type": "markdown",
   "metadata": {
    "deletable": false,
    "editable": false,
    "nbgrader": {
     "cell_type": "markdown",
     "checksum": "e290cacee54643903f9e5580eefe6410",
     "grade": false,
     "grade_id": "cell-3b2881811ec2bc3c",
     "locked": true,
     "schema_version": 3,
     "solution": false,
     "task": false
    }
   },
   "source": [
    "## Prerequisites\n",
    "\n",
    "1. Require n+1 points $(x_0, y_0), (x_1, y_1), \\dots, (x_n, y_n)$ to find the polynomial of $n$ degree."
   ]
  },
  {
   "cell_type": "markdown",
   "metadata": {
    "deletable": false,
    "editable": false,
    "nbgrader": {
     "cell_type": "markdown",
     "checksum": "3b258d60e97f91c321d4ead011df2ac5",
     "grade": false,
     "grade_id": "cell-0b43ad9dd6516c11",
     "locked": true,
     "schema_version": 3,
     "solution": false,
     "task": false
    }
   },
   "source": [
    "## Implementation"
   ]
  },
  {
   "cell_type": "markdown",
   "metadata": {
    "deletable": false,
    "editable": false,
    "nbgrader": {
     "cell_type": "markdown",
     "checksum": "c509605267929ba783c57e3dbcc334f9",
     "grade": false,
     "grade_id": "cell-68b731a6758f4c5d",
     "locked": true,
     "schema_version": 3,
     "solution": false,
     "task": false
    }
   },
   "source": [
    "### Part 0. Import necessary libraries"
   ]
  },
  {
   "cell_type": "code",
   "execution_count": null,
   "metadata": {
    "deletable": false,
    "editable": false,
    "nbgrader": {
     "cell_type": "code",
     "checksum": "63cd15a8aa22ba6df49bdacbfac88ac3",
     "grade": false,
     "grade_id": "cell-14f35a80e6853728",
     "locked": true,
     "schema_version": 3,
     "solution": false,
     "task": false
    }
   },
   "outputs": [],
   "source": [
    "import matplotlib.pyplot as plt\n",
    "import numpy as np"
   ]
  },
  {
   "cell_type": "markdown",
   "metadata": {
    "deletable": false,
    "editable": false,
    "nbgrader": {
     "cell_type": "markdown",
     "checksum": "b6a64c3a545f6cac2f7fd92844d60336",
     "grade": false,
     "grade_id": "cell-5f3d3e7664e1be44",
     "locked": true,
     "schema_version": 3,
     "solution": false,
     "task": false
    }
   },
   "source": [
    "### Part 1. Implement Lagrange polynomial interpolation"
   ]
  },
  {
   "cell_type": "code",
   "execution_count": null,
   "metadata": {
    "deletable": false,
    "nbgrader": {
     "cell_type": "code",
     "checksum": "061c217c5632012a39e67e96b0069ba6",
     "grade": false,
     "grade_id": "cell-4e9ab882e6806659",
     "locked": false,
     "schema_version": 3,
     "solution": true,
     "task": false
    }
   },
   "outputs": [],
   "source": [
    "def lagrange(points):\n",
    "    \n",
    "    # Construct the Lagrange interploating polynomial\n",
    "    def polynomial(x):\n",
    "        total_sum = 0\n",
    "        n = len(points)\n",
    "        \n",
    "        for i in range(n):\n",
    "            x_i, y_i = points[i]\n",
    "            \n",
    "            # Construct the cardinal function\n",
    "            def g(i, n):\n",
    "                product = 1\n",
    "                \n",
    "                for j in range(n):\n",
    "                    \n",
    "                    # Skip when i = j\n",
    "                    if i == j:\n",
    "                        continue\n",
    "                        \n",
    "                    # multiply when i ≠ j\n",
    "                    #\n",
    "                    # ===== 請實做程式 =====\n",
    "                    \n",
    "                    # ====================\n",
    "\n",
    "                return product\n",
    "            # End construct the cardinal function\n",
    "\n",
    "            # Add each term\n",
    "            #\n",
    "            # ===== 請實做程式 =====\n",
    "            \n",
    "            # ====================\n",
    "        \n",
    "        return total_sum\n",
    "    # End construct Lagrange polynomial\n",
    "    \n",
    "    # Return polynomial\n",
    "    return polynomial"
   ]
  },
  {
   "cell_type": "markdown",
   "metadata": {
    "deletable": false,
    "editable": false,
    "nbgrader": {
     "cell_type": "markdown",
     "checksum": "41a9aa6d3d20f95949c39ade0eda9c49",
     "grade": false,
     "grade_id": "cell-b4414d14442e3ade",
     "locked": true,
     "schema_version": 3,
     "solution": false,
     "task": false
    }
   },
   "source": [
    "---\n",
    "\n",
    "## Example 1\n",
    "\n",
    "Given three points $(0,0), (1,1), (-1,1)$, try to find a polynomial $P(x)$ with degree 2."
   ]
  },
  {
   "cell_type": "code",
   "execution_count": null,
   "metadata": {
    "deletable": false,
    "editable": false,
    "nbgrader": {
     "cell_type": "code",
     "checksum": "b587594559314e7a676011200f6bdf75",
     "grade": false,
     "grade_id": "cell-7e51453bea3e6db9",
     "locked": true,
     "schema_version": 3,
     "solution": false,
     "task": false
    }
   },
   "outputs": [],
   "source": [
    "points = (\n",
    "    (0, 0),\n",
    "    (1, 1),\n",
    "    (-1, 1)\n",
    ")\n",
    "\n",
    "P = lagrange(points)"
   ]
  },
  {
   "cell_type": "code",
   "execution_count": null,
   "metadata": {
    "deletable": false,
    "editable": false,
    "nbgrader": {
     "cell_type": "code",
     "checksum": "13653d7ca229d28541aa766bc91f49f1",
     "grade": false,
     "grade_id": "cell-fc02114a78a3d394",
     "locked": true,
     "schema_version": 3,
     "solution": false,
     "task": false
    }
   },
   "outputs": [],
   "source": [
    "# Test result\n",
    "print('P(2) =', P(2))"
   ]
  },
  {
   "cell_type": "markdown",
   "metadata": {
    "deletable": false,
    "editable": false,
    "nbgrader": {
     "cell_type": "markdown",
     "checksum": "b419187ee0f4277442dc468da9ab6034",
     "grade": false,
     "grade_id": "cell-09a003ed9ef55df7",
     "locked": true,
     "schema_version": 3,
     "solution": false,
     "task": false
    }
   },
   "source": [
    "### Plot $P(x)$"
   ]
  },
  {
   "cell_type": "code",
   "execution_count": null,
   "metadata": {
    "deletable": false,
    "editable": false,
    "nbgrader": {
     "cell_type": "code",
     "checksum": "79518621c4f1bf953903a9a9407ea7ff",
     "grade": false,
     "grade_id": "cell-e93f7d15d14454cf",
     "locked": true,
     "schema_version": 3,
     "solution": false,
     "task": false
    }
   },
   "outputs": [],
   "source": [
    "x_range = np.arange(-2, 2, 0.01)\n",
    "fig, ax = plt.subplots(figsize=(16, 6))\n",
    "\n",
    "# Plot the Lagrange interploating polynomial P(x)\n",
    "ax.plot(x_range, P(x_range))\n",
    "\n",
    "# Plot the given points\n",
    "x = [p[0] for p in points]\n",
    "y = [p[1] for p in points]\n",
    "ax.scatter(x, y, color='black')\n",
    "\n",
    "# Add other text and items\n",
    "ax.set_title(r'$P(x)$')\n",
    "ax.grid(True)\n",
    "ax.axhline(y=0)\n",
    "ax.axvline(x=0)\n",
    "plt.show()"
   ]
  },
  {
   "cell_type": "markdown",
   "metadata": {
    "deletable": false,
    "editable": false,
    "nbgrader": {
     "cell_type": "markdown",
     "checksum": "e5b91be248def8e3a3df6f722965c05b",
     "grade": false,
     "grade_id": "cell-499eec57eda7a260",
     "locked": true,
     "schema_version": 3,
     "solution": false,
     "task": false
    }
   },
   "source": [
    "---\n",
    "\n",
    "## Example 2\n",
    "\n",
    "Consider the problem of interpolating $f(x) = \\ln(x)$ at these given nodes $(x_0, x_1, x_2, x_3, x_4) = (1, 1.6, 1.9, 2.7, 3)$.\n",
    "\n",
    "Try to construct the Lagrange interploating polynomial $P(x)$."
   ]
  },
  {
   "cell_type": "code",
   "execution_count": null,
   "metadata": {
    "deletable": false,
    "nbgrader": {
     "cell_type": "code",
     "checksum": "42550d5c660a390f7fef1c21d00ff25f",
     "grade": false,
     "grade_id": "cell-e8030a45ee0fdd8a",
     "locked": false,
     "schema_version": 3,
     "solution": true,
     "task": false
    }
   },
   "outputs": [],
   "source": [
    "def f(x):\n",
    "    # ===== 請實做程式 =====\n",
    "    \n",
    "    # ===================="
   ]
  },
  {
   "cell_type": "code",
   "execution_count": null,
   "metadata": {
    "deletable": false,
    "editable": false,
    "nbgrader": {
     "cell_type": "code",
     "checksum": "af79fea4dadbd13383c169add699303e",
     "grade": false,
     "grade_id": "cell-cd828d1428013135",
     "locked": true,
     "schema_version": 3,
     "solution": false,
     "task": false
    }
   },
   "outputs": [],
   "source": [
    "points = (\n",
    "    (1, f(1)),\n",
    "    (1.6, f(1.6)),\n",
    "    (1.9, f(1.9)),\n",
    "    (2.7, f(2.7)),\n",
    "    (3, f(3))\n",
    ")\n",
    "\n",
    "P = lagrange(points)"
   ]
  },
  {
   "cell_type": "markdown",
   "metadata": {
    "deletable": false,
    "editable": false,
    "nbgrader": {
     "cell_type": "markdown",
     "checksum": "acb52184ea6a77340a4842a4b6561c81",
     "grade": false,
     "grade_id": "cell-16328411e6794131",
     "locked": true,
     "schema_version": 3,
     "solution": false,
     "task": false
    }
   },
   "source": [
    "### Plot $f(x)$ and $P(x)$ within the interval $[1,3]$"
   ]
  },
  {
   "cell_type": "code",
   "execution_count": null,
   "metadata": {
    "deletable": false,
    "editable": false,
    "nbgrader": {
     "cell_type": "code",
     "checksum": "873ec2d00b0fc81fa7f223a48b0f04c8",
     "grade": false,
     "grade_id": "cell-ed1b826eb7304fdf",
     "locked": true,
     "schema_version": 3,
     "solution": false,
     "task": false
    }
   },
   "outputs": [],
   "source": [
    "x_range = np.arange(1, 3, 0.01)\n",
    "fig, ax = plt.subplots(figsize=(16, 5))\n",
    "\n",
    "# Plot the function f(x)\n",
    "ax.plot(x_range, f(x_range), color='r', label='f(x)')\n",
    "\n",
    "# Plot the Lagrange interploating polynomial P(x)\n",
    "ax.plot(x_range, P(x_range), color='b', label='P(x)')\n",
    "\n",
    "# Add other text and items\n",
    "ax.set_title(r'$f(x)$ and $P(x)$')\n",
    "plt.legend(loc='lower right')\n",
    "ax.grid(True)\n",
    "ax.axhline(y=0)\n",
    "ax.axvline(x=0)\n",
    "plt.show()"
   ]
  },
  {
   "cell_type": "markdown",
   "metadata": {
    "deletable": false,
    "editable": false,
    "nbgrader": {
     "cell_type": "markdown",
     "checksum": "aa265a8072f6a8ef8d0a420640298f26",
     "grade": false,
     "grade_id": "cell-117c19068e02ec92",
     "locked": true,
     "schema_version": 3,
     "solution": false,
     "task": false
    }
   },
   "source": [
    "### Plot $f(x)$ and $P(x)$ within the lager interval $[0.01, 5]$"
   ]
  },
  {
   "cell_type": "code",
   "execution_count": null,
   "metadata": {
    "deletable": false,
    "editable": false,
    "nbgrader": {
     "cell_type": "code",
     "checksum": "3d16b880c6c46250180d9fbe5d51ffdf",
     "grade": false,
     "grade_id": "cell-e9757c8c6dc01478",
     "locked": true,
     "schema_version": 3,
     "solution": false,
     "task": false
    }
   },
   "outputs": [],
   "source": [
    "x_range = np.arange(0.01, 5, 0.01)\n",
    "fig, ax = plt.subplots(figsize=(16, 5))\n",
    "\n",
    "# Plot the function f(x)\n",
    "ax.plot(x_range, f(x_range), color='r', label='f(x)')\n",
    "\n",
    "# Plot the Lagrange interploating polynomial\n",
    "ax.plot(x_range, P(x_range), color='b', label='P(x)')\n",
    "\n",
    "# Add other text and items\n",
    "ax.set_title(r'$f(x)$ and $P(x)$')\n",
    "plt.legend(loc='lower right')\n",
    "ax.grid(True)\n",
    "ax.axhline(y=0)\n",
    "ax.axvline(x=0)\n",
    "plt.show()"
   ]
  },
  {
   "cell_type": "markdown",
   "metadata": {
    "deletable": false,
    "editable": false,
    "nbgrader": {
     "cell_type": "markdown",
     "checksum": "54ab124f8b4a6975e3bc75df46292357",
     "grade": false,
     "grade_id": "cell-e3bd81e64f930c6f",
     "locked": true,
     "schema_version": 3,
     "solution": false,
     "task": false
    }
   },
   "source": [
    "## Error bound"
   ]
  },
  {
   "cell_type": "markdown",
   "metadata": {
    "deletable": false,
    "editable": false,
    "nbgrader": {
     "cell_type": "markdown",
     "checksum": "b3cede1740463d34a88ae7410ebcd19e",
     "grade": false,
     "grade_id": "cell-837d2644fe24b9b8",
     "locked": true,
     "schema_version": 3,
     "solution": false,
     "task": false
    }
   },
   "source": [
    "### Theorem of the polynomial interpolation error:\n",
    "\n",
    "Let $x_0, \\dots, x_n$ be distinct points in $[a,b]$, and suppose $f$ has at least $n+1$ continuous derivatives in that interval.\n",
    "\n",
    "Let $p_n(x)$ be the unique polynomial of degree at most $n$ interpolating $f$ at $x_0, \\dots, x_n$. Then for each $x \\in [a,b]$ there exists a number $\\xi(x) \\in (a,b)$ such that\n",
    "\n",
    "$$f(x) - p_n(x) = \\frac{f^{(n+1)}(\\xi)}{(n+1)!} \\prod_{i = 0}^{n} (x - x_i)$$"
   ]
  },
  {
   "cell_type": "markdown",
   "metadata": {
    "deletable": false,
    "editable": false,
    "nbgrader": {
     "cell_type": "markdown",
     "checksum": "7fb1430b02f0bcd57360c4e5dbc97f97",
     "grade": false,
     "grade_id": "cell-cf5ee4bcd781d64e",
     "locked": true,
     "schema_version": 3,
     "solution": false,
     "task": false
    }
   },
   "source": [
    "### Define $\\omega(t) := \\prod_{i = 0}^{n} (t - x_i)$"
   ]
  },
  {
   "cell_type": "code",
   "execution_count": null,
   "metadata": {
    "deletable": false,
    "nbgrader": {
     "cell_type": "code",
     "checksum": "8e08cc2b04cf5a6c04e30fdbdc50fe47",
     "grade": false,
     "grade_id": "cell-e8e21588677ad8ea",
     "locked": false,
     "schema_version": 3,
     "solution": true,
     "task": false
    }
   },
   "outputs": [],
   "source": [
    "def omega(t, x):\n",
    "    n = len(x)\n",
    "    product = 1\n",
    "\n",
    "    for i in range(n):\n",
    "        # ===== 請實做程式 =====\n",
    "        \n",
    "        # ====================\n",
    "\n",
    "    return product"
   ]
  },
  {
   "cell_type": "markdown",
   "metadata": {
    "deletable": false,
    "editable": false,
    "nbgrader": {
     "cell_type": "markdown",
     "checksum": "98d5e7842d3dc99641d82c3913f4501f",
     "grade": false,
     "grade_id": "cell-7a6af136db0cb96c",
     "locked": true,
     "schema_version": 3,
     "solution": false,
     "task": false
    }
   },
   "source": [
    "Here $n = 4$ and $f^{(5)}(\\xi) = \\dfrac{4!}{\\xi^5}$.\n",
    "\n",
    "For $\\xi \\in [1,3]$ we can say that $|f^{(5)}(\\xi)| \\leq 4!$.\n",
    "\n",
    "Hence\n",
    "$$\\max_{1 \\leq x \\leq 3} |f(x) - p_4(x)| \\leq \\dfrac{1}{5} \\max_{1 \\leq x \\leq 3} |\\omega(x)|.$$"
   ]
  },
  {
   "cell_type": "code",
   "execution_count": null,
   "metadata": {
    "deletable": false,
    "editable": false,
    "nbgrader": {
     "cell_type": "code",
     "checksum": "3a0a65c2e2c00e6b0c5c8480784b787c",
     "grade": false,
     "grade_id": "cell-3d0460ba5510e929",
     "locked": true,
     "schema_version": 3,
     "solution": false,
     "task": false
    }
   },
   "outputs": [],
   "source": [
    "x = [p[0] for p in points]\n",
    "x_range = np.arange(1, 3.01, 0.01)\n",
    "fig, ax = plt.subplots(figsize=(16, 5))\n",
    "\n",
    "# Plot the omega(x)\n",
    "ax.plot(x_range, abs(omega(x_range, x))/5)\n",
    "\n",
    "# Plot the points\n",
    "ax.scatter(x, np.zeros(len(x)), color='black')\n",
    "\n",
    "# Add other text and items\n",
    "ax.set_title(r'$\\dfrac{|\\omega(x)|}{5}$')\n",
    "ax.grid(True)\n",
    "ax.axhline(y=0)\n",
    "plt.show()"
   ]
  },
  {
   "cell_type": "markdown",
   "metadata": {
    "deletable": false,
    "editable": false,
    "nbgrader": {
     "cell_type": "markdown",
     "checksum": "8359c7f12e928734ea68fb5d28d58a52",
     "grade": false,
     "grade_id": "cell-cf9aa17cf3ab62ad",
     "locked": true,
     "schema_version": 3,
     "solution": false,
     "task": false
    }
   },
   "source": [
    "---\n",
    "\n",
    "## Example 3\n",
    "\n",
    "Consider the __Runge function__\n",
    "$$f(x) = \\frac{1}{1 + 25x^2}.$$\n",
    "\n",
    "Runge found that if this function is interpolated at equidistant points $x_i$ between −1 and 1 such that:\n",
    "$$x_i = \\frac{2i}{n} - 1, \\quad i \\in \\{0, 1, 2, \\dots, n\\}$$\n",
    "\n",
    "with a polynomial $P_n(x)$ of degree $\\leq n$.\n",
    "\n",
    "Try to construct the Lagrange interploating polynomial $P_n(x)$."
   ]
  },
  {
   "cell_type": "code",
   "execution_count": null,
   "metadata": {
    "deletable": false,
    "nbgrader": {
     "cell_type": "code",
     "checksum": "572669bb0ebbdca22b54d9ccf107e511",
     "grade": false,
     "grade_id": "cell-39c77e0744ee5cdd",
     "locked": false,
     "schema_version": 3,
     "solution": true,
     "task": false
    }
   },
   "outputs": [],
   "source": [
    "def f(x):\n",
    "    # ===== 請實做程式 =====\n",
    "    \n",
    "    # ===================="
   ]
  },
  {
   "cell_type": "markdown",
   "metadata": {
    "deletable": false,
    "editable": false,
    "nbgrader": {
     "cell_type": "markdown",
     "checksum": "c0b93acc5b8ebe4fac30618bf24d92a5",
     "grade": false,
     "grade_id": "cell-f47deaf0478249a8",
     "locked": true,
     "schema_version": 3,
     "solution": false,
     "task": false
    }
   },
   "source": [
    "## Runge's Phenomenon"
   ]
  },
  {
   "cell_type": "markdown",
   "metadata": {
    "deletable": false,
    "editable": false,
    "nbgrader": {
     "cell_type": "markdown",
     "checksum": "d3fe8b15c20ce0161a11eebf458a76cd",
     "grade": false,
     "grade_id": "cell-110d44b808c66ff0",
     "locked": true,
     "schema_version": 3,
     "solution": false,
     "task": false
    }
   },
   "source": [
    "### Construct the Lagrange interploating polynomial $P_{5}(x)$ with degree 5"
   ]
  },
  {
   "cell_type": "code",
   "execution_count": null,
   "metadata": {
    "deletable": false,
    "editable": false,
    "nbgrader": {
     "cell_type": "code",
     "checksum": "f9954bd4e1fb9fa87213ad9143c642b1",
     "grade": false,
     "grade_id": "cell-28d7dc8f2f94468d",
     "locked": true,
     "schema_version": 3,
     "solution": false,
     "task": false
    }
   },
   "outputs": [],
   "source": [
    "n = 5\n",
    "x = np.linspace(-1, 1, n+1)\n",
    "points = [(xi, f(xi)) for xi in x]\n",
    "P_5 = lagrange(points)"
   ]
  },
  {
   "cell_type": "markdown",
   "metadata": {
    "deletable": false,
    "editable": false,
    "nbgrader": {
     "cell_type": "markdown",
     "checksum": "6b22879cfbbd2804e86245795025e126",
     "grade": false,
     "grade_id": "cell-92a6d5213c430084",
     "locked": true,
     "schema_version": 3,
     "solution": false,
     "task": false
    }
   },
   "source": [
    "### Construct the Lagrange interploating polynomial $P_{10}(x)$ with degree 10"
   ]
  },
  {
   "cell_type": "code",
   "execution_count": null,
   "metadata": {
    "deletable": false,
    "editable": false,
    "nbgrader": {
     "cell_type": "code",
     "checksum": "51543e297ddd681cf3f8ad032b83af89",
     "grade": false,
     "grade_id": "cell-f2052c215677911f",
     "locked": true,
     "schema_version": 3,
     "solution": false,
     "task": false
    }
   },
   "outputs": [],
   "source": [
    "n = 10\n",
    "x = np.linspace(-1, 1, n+1)\n",
    "points = [(xi, f(xi)) for xi in x]\n",
    "P_10 = lagrange(points)"
   ]
  },
  {
   "cell_type": "markdown",
   "metadata": {
    "deletable": false,
    "editable": false,
    "nbgrader": {
     "cell_type": "markdown",
     "checksum": "c426c3848e4da5d1f032e3f312d44291",
     "grade": false,
     "grade_id": "cell-3aad621b18ee83b2",
     "locked": true,
     "schema_version": 3,
     "solution": false,
     "task": false
    }
   },
   "source": [
    "### Construct the Lagrange interploating polynomial $P_{15}(x)$ with degree 15"
   ]
  },
  {
   "cell_type": "code",
   "execution_count": null,
   "metadata": {
    "deletable": false,
    "editable": false,
    "nbgrader": {
     "cell_type": "code",
     "checksum": "3c0763818d6731d626cac51122287550",
     "grade": false,
     "grade_id": "cell-e038a714895b52c9",
     "locked": true,
     "schema_version": 3,
     "solution": false,
     "task": false
    }
   },
   "outputs": [],
   "source": [
    "n = 15\n",
    "x = np.linspace(-1, 1, n+1)\n",
    "points = [[xi, f(xi)] for xi in x]\n",
    "P_15 = lagrange(points)"
   ]
  },
  {
   "cell_type": "markdown",
   "metadata": {
    "deletable": false,
    "editable": false,
    "nbgrader": {
     "cell_type": "markdown",
     "checksum": "976d52de5f82387e5bba216c38d5cfde",
     "grade": false,
     "grade_id": "cell-6390685c4782b556",
     "locked": true,
     "schema_version": 3,
     "solution": false,
     "task": false
    }
   },
   "source": [
    "### Plot $P_{5}(x), P_{10}(x)$ and $P_{15}(x)$ to compare"
   ]
  },
  {
   "cell_type": "code",
   "execution_count": null,
   "metadata": {
    "deletable": false,
    "editable": false,
    "nbgrader": {
     "cell_type": "code",
     "checksum": "b39d6594e67bbe800accb0819d1f7a96",
     "grade": false,
     "grade_id": "cell-30cdd341beab8627",
     "locked": true,
     "schema_version": 3,
     "solution": false,
     "task": false
    }
   },
   "outputs": [],
   "source": [
    "x_range = np.arange(-1, 1, 0.01)\n",
    "fig, ax = plt.subplots(figsize=(16, 9))\n",
    "\n",
    "# Plot the function f(x)\n",
    "ax.plot(x_range, f(x_range), color='r', label='f(x)')\n",
    "\n",
    "# Plot P1(x)\n",
    "ax.plot(x_range, P_5(x_range), color='y', label='$P_{5}(x)$')\n",
    "\n",
    "# Plot P2(x)\n",
    "ax.plot(x_range, P_10(x_range), color='b', label='$P_{10}(x)$')\n",
    "\n",
    "# Plot P3(x)\n",
    "ax.plot(x_range, P_15(x_range), color='g', label='$P_{15}(x)$')\n",
    "\n",
    "# Add other text and items\n",
    "ax.set_title(r'$P_{5}(x), P_{10}(x)$ and $P_{15}(x)$')\n",
    "plt.legend(loc='lower right')\n",
    "ax.grid(True)\n",
    "ax.axhline(y=0)\n",
    "ax.axvline(x=0)\n",
    "plt.show()"
   ]
  },
  {
   "cell_type": "markdown",
   "metadata": {
    "deletable": false,
    "editable": false,
    "nbgrader": {
     "cell_type": "markdown",
     "checksum": "0a54379131f78f1232cf03470f3d469c",
     "grade": false,
     "grade_id": "cell-5ebf2e44050e3f3d",
     "locked": true,
     "schema_version": 3,
     "solution": false,
     "task": false
    }
   },
   "source": [
    "### Why there are the oscillations?\n",
    "\n",
    "Runge's phenomenon is the consequence of two properties of this problem.\n",
    "\n",
    "1. The magnitude of the $n$-th order derivatives of this particular function grows quickly when $n$ increases.\n",
    "2. The equidistance between points leads to a Lebesgue constant that increases quickly when $n$ increases.\n",
    "\n",
    "The phenomenon is graphically obvious because both properties combine to increase the magnitude of the oscillations."
   ]
  },
  {
   "cell_type": "markdown",
   "metadata": {
    "deletable": false,
    "editable": false,
    "nbgrader": {
     "cell_type": "markdown",
     "checksum": "307dddeebeaf95d6bf4b5368537ec8e8",
     "grade": false,
     "grade_id": "cell-5e89a36c9e76cdcc",
     "locked": true,
     "schema_version": 3,
     "solution": false,
     "task": false
    }
   },
   "source": [
    "## Error bound"
   ]
  },
  {
   "cell_type": "markdown",
   "metadata": {
    "deletable": false,
    "editable": false,
    "nbgrader": {
     "cell_type": "markdown",
     "checksum": "e36cf959282fed38a5be3ea107e698d5",
     "grade": false,
     "grade_id": "cell-251697e03a601cfd",
     "locked": true,
     "schema_version": 3,
     "solution": false,
     "task": false
    }
   },
   "source": [
    "By example 2, we know that the original error is\n",
    "\n",
    "$$f(x) - P_n(x) \\leq \\frac{f^{(n+1)} (\\xi)}{(n+1)!}\\ \\omega_n(x), \\quad \\xi \\in (-1,1) \\text{ and } \\omega_n(x) := \\prod_{i = 0}^{n} (x - x_i).$$\n",
    "\n",
    "So the original error bound is\n",
    "\n",
    "$$\\max_{-1 \\leq x \\leq 1} |f(x) - P_n(x)| \\leq \\max_{-1 \\leq x \\leq 1} \\frac{\\left| f^{(n+1)} (x) \\right|}{(n+1)!} \\max_{-1 \\leq x \\leq 1} |\\omega_n(x)|.$$\n",
    "\n",
    "It is elementary to prove that with equidistant nodes\n",
    "\n",
    "$$\\max_{-1 \\leq x \\leq 1} |\\omega_n(x)| \\leq n!\\ h^{(n+1)},\\quad \\text{where $h = \\dfrac{2}{n}$ is the step size.}$$\n",
    "\n",
    "Moreover, assume that the $(n+1)$-th derivative of $f$ is bounded, i.e.\n",
    "\n",
    "$$\\max_{-1 \\leq x \\leq 1} \\left| f^{(n+1)} (x) \\right| \\leq M_{n+1}.$$\n",
    "\n",
    "Therefore,\n",
    "\n",
    "$$\\max_{-1 \\leq x \\leq 1} |f(x) - P_n(x)| \\leq M_{n+1}\\ \\frac{h^{(n+1)}}{n+1}.$$\n",
    "\n",
    "But the magnitude of the $(n+1)$-th derivative of Runge's function increases when $n$ increases, since $M_{n+1} \\leq (n+1)!\\ 5^{n+1}.$\n",
    "\n",
    "The consequence is that the resulting upper bound,\n",
    "\n",
    "$$\\left( \\frac{10}{n} \\right)^{n+1}\\ n!$$\n",
    "\n",
    "tends to infinity when $n$ tends to infinity.\n",
    "\n",
    "So the interpolation error when $n \\to \\infty$ is\n",
    "\n",
    "$$\\lim_{n \\to \\infty}\\ \\max_{-1 \\leq x \\leq 1} |f(x) - P_n(x)| = +\\infty.$$\n",
    "\n",
    "### <span style=\"color:red\"> __*This shows that high-degree polynomial interpolation at equidistant points can be troublesome!!!!*__ </span>"
   ]
  },
  {
   "cell_type": "markdown",
   "metadata": {
    "deletable": false,
    "editable": false,
    "nbgrader": {
     "cell_type": "markdown",
     "checksum": "842a3be987cb0b6b47ee531e90c29f7f",
     "grade": false,
     "grade_id": "cell-4786b255e14d06ce",
     "locked": true,
     "schema_version": 3,
     "solution": false,
     "task": false
    }
   },
   "source": [
    "### Plot error of $P_{5}(x), P_{10}(x)$ and $P_{15}(x)$"
   ]
  },
  {
   "cell_type": "code",
   "execution_count": null,
   "metadata": {
    "deletable": false,
    "editable": false,
    "nbgrader": {
     "cell_type": "code",
     "checksum": "cd04450c80a1d8970ab188107e444bd2",
     "grade": false,
     "grade_id": "cell-553da54cd98ceeb4",
     "locked": true,
     "schema_version": 3,
     "solution": false,
     "task": false
    }
   },
   "outputs": [],
   "source": [
    "x_range = np.arange(-1, 1, 0.01)\n",
    "fig, ax = plt.subplots(figsize=(16, 9))\n",
    "\n",
    "# Plot error of P1(x)\n",
    "ax.plot(x_range, abs(P_5(x_range) - f(x_range)), color='y', label='$|P_{5}(x) - f(x)|$')\n",
    "\n",
    "# Plot error of P2(x)\n",
    "ax.plot(x_range, abs(P_10(x_range) - f(x_range)), color='b', label='$|P_{10}(x) - f(x)|$')\n",
    "\n",
    "# Plot error of P3(x)\n",
    "ax.plot(x_range, abs(P_15(x_range) - f(x_range)), color='g', label='$|P_{15}(x) - f(x)|$')\n",
    "\n",
    "# Add other text and items\n",
    "ax.set_title(r'Error of $P_{5}(x), P_{10}(x)$ and $P_{15}(x)$')\n",
    "plt.legend(loc='lower right')\n",
    "ax.grid(True)\n",
    "ax.axhline(y=0)\n",
    "ax.axvline(x=0)\n",
    "plt.show()"
   ]
  },
  {
   "cell_type": "markdown",
   "metadata": {
    "deletable": false,
    "editable": false,
    "nbgrader": {
     "cell_type": "markdown",
     "checksum": "e7bb84fad97ca43bc159a5c38523de37",
     "grade": false,
     "grade_id": "cell-a18b4ec058d864a4",
     "locked": true,
     "schema_version": 3,
     "solution": false,
     "task": false
    }
   },
   "source": [
    "---\n",
    "\n",
    "## Chebyshev Nodes\n",
    "\n",
    "Consider arbitrary interval $[a, b]$, so called Chebyshev-Gauss-Lobatto nodes are\n",
    "$$x_j = \\frac{a + b}{2} + \\frac{b - a}{2}\\ \\hat{x_j}, \\quad \\hat{x_j} = - \\cos\\left(\\frac{j \\pi}{n}\\right), \\quad j = 0, 1, 2, \\dots, n.$$\n",
    "\n",
    "Also, $\\hat{x_j}$ are the roots of __the Chebyshev polynomial of the first kind of degree $n$__.\n",
    "\n",
    "<img src=\"https://upload.wikimedia.org/wikipedia/commons/thumb/7/7a/Chebyshev-nodes-by-projection.svg/1200px-Chebyshev-nodes-by-projection.svg.png\" width=500>"
   ]
  },
  {
   "cell_type": "markdown",
   "metadata": {
    "deletable": false,
    "editable": false,
    "nbgrader": {
     "cell_type": "markdown",
     "checksum": "8965abeb3a786b5feee6bacf5bceb74d",
     "grade": false,
     "grade_id": "cell-b24030f8953ea27f",
     "locked": true,
     "schema_version": 3,
     "solution": false,
     "task": false
    }
   },
   "source": [
    "### Construct the Lagrange interploating polynomial $P_{5}(x)$ with degree 5"
   ]
  },
  {
   "cell_type": "code",
   "execution_count": null,
   "metadata": {
    "deletable": false,
    "editable": false,
    "nbgrader": {
     "cell_type": "code",
     "checksum": "d7043ba3eeda39cb0827d1c96480432d",
     "grade": false,
     "grade_id": "cell-3b1483411512133d",
     "locked": true,
     "schema_version": 3,
     "solution": false,
     "task": false
    }
   },
   "outputs": [],
   "source": [
    "n = 5\n",
    "x = -np.cos(np.linspace(0, np.pi, n+1))\n",
    "points = [(xi, f(xi)) for xi in x]\n",
    "P_5 = lagrange(points)"
   ]
  },
  {
   "cell_type": "markdown",
   "metadata": {
    "deletable": false,
    "editable": false,
    "nbgrader": {
     "cell_type": "markdown",
     "checksum": "046fb1c52bb7822d4cbfb3b76a94ebe6",
     "grade": false,
     "grade_id": "cell-528d4646ef8ca770",
     "locked": true,
     "schema_version": 3,
     "solution": false,
     "task": false
    }
   },
   "source": [
    "### Construct the Lagrange interploating polynomial $P_{10}(x)$ with degree 10"
   ]
  },
  {
   "cell_type": "code",
   "execution_count": null,
   "metadata": {
    "deletable": false,
    "editable": false,
    "nbgrader": {
     "cell_type": "code",
     "checksum": "519d01dc4698520198cdb240c53d37d8",
     "grade": false,
     "grade_id": "cell-994437844b7997ed",
     "locked": true,
     "schema_version": 3,
     "solution": false,
     "task": false
    }
   },
   "outputs": [],
   "source": [
    "n = 10\n",
    "x = -np.cos(np.linspace(0, np.pi, n+1))\n",
    "points = [(xi, f(xi)) for xi in x]\n",
    "P_10 = lagrange(points)"
   ]
  },
  {
   "cell_type": "markdown",
   "metadata": {
    "deletable": false,
    "editable": false,
    "nbgrader": {
     "cell_type": "markdown",
     "checksum": "c8f9aa9a399031a76dff89c59e9dd222",
     "grade": false,
     "grade_id": "cell-6f814b7cfb3b3213",
     "locked": true,
     "schema_version": 3,
     "solution": false,
     "task": false
    }
   },
   "source": [
    "### Construct the Lagrange interploating polynomial $P_{15}(x)$ with degree 15"
   ]
  },
  {
   "cell_type": "code",
   "execution_count": null,
   "metadata": {
    "deletable": false,
    "editable": false,
    "nbgrader": {
     "cell_type": "code",
     "checksum": "db8754df3fc8f93e6173630c3a212974",
     "grade": false,
     "grade_id": "cell-11305f40bfad3a4c",
     "locked": true,
     "schema_version": 3,
     "solution": false,
     "task": false
    }
   },
   "outputs": [],
   "source": [
    "n = 15\n",
    "x = -np.cos(np.linspace(0, np.pi, n+1))\n",
    "points = [(xi, f(xi)) for xi in x]\n",
    "P_15 = lagrange(points)"
   ]
  },
  {
   "cell_type": "markdown",
   "metadata": {
    "deletable": false,
    "editable": false,
    "nbgrader": {
     "cell_type": "markdown",
     "checksum": "dcad02df05d3392bf75315df81232d6c",
     "grade": false,
     "grade_id": "cell-18ecc9c7a0868e3b",
     "locked": true,
     "schema_version": 3,
     "solution": false,
     "task": false
    }
   },
   "source": [
    "### Plot $P_{5}(x), P_{10}(x)$ and $P_{15}(x)$ to compare"
   ]
  },
  {
   "cell_type": "code",
   "execution_count": null,
   "metadata": {
    "deletable": false,
    "editable": false,
    "nbgrader": {
     "cell_type": "code",
     "checksum": "dff1f1a9fa8560f2ed59f795314ecd25",
     "grade": false,
     "grade_id": "cell-d4607156d212ece5",
     "locked": true,
     "schema_version": 3,
     "solution": false,
     "task": false
    }
   },
   "outputs": [],
   "source": [
    "x_range = np.arange(-1, 1, 0.01)\n",
    "fig, ax = plt.subplots(figsize=(16, 9))\n",
    "\n",
    "# Plot the function f(x)\n",
    "ax.plot(x_range, f(x_range), color='r', label='f(x)')\n",
    "\n",
    "# Plot P1(x)\n",
    "ax.plot(x_range, P_5(x_range), color='y', label='$P_{5}(x)$')\n",
    "\n",
    "# Plot P2(x)\n",
    "ax.plot(x_range, P_10(x_range), color='b', label='$P_{10}(x)$')\n",
    "\n",
    "# Plot P3(x)\n",
    "ax.plot(x_range, P_15(x_range), color='g', label='$P_{15}(x)$')\n",
    "\n",
    "# Add other text and items\n",
    "ax.set_title(r'$P_{5}(x), P_{10}(x)$ and $P_{15}(x)$')\n",
    "plt.legend(loc='upper right')\n",
    "ax.grid(True)\n",
    "ax.axhline(y=0)\n",
    "ax.axvline(x=0)\n",
    "plt.show()"
   ]
  },
  {
   "cell_type": "markdown",
   "metadata": {
    "deletable": false,
    "editable": false,
    "nbgrader": {
     "cell_type": "markdown",
     "checksum": "73645ca120acc2eb589b9ec056263b8d",
     "grade": false,
     "grade_id": "cell-70708654a2f62a0a",
     "locked": true,
     "schema_version": 3,
     "solution": false,
     "task": false
    }
   },
   "source": [
    "## Error bound"
   ]
  },
  {
   "cell_type": "markdown",
   "metadata": {
    "deletable": false,
    "editable": false,
    "nbgrader": {
     "cell_type": "markdown",
     "checksum": "ed37972c06d9a7a3dfae5e8f7f1c54f8",
     "grade": false,
     "grade_id": "cell-a911fdd633fd7534",
     "locked": true,
     "schema_version": 3,
     "solution": false,
     "task": false
    }
   },
   "source": [
    "By example 2, we know that the original error is\n",
    "\n",
    "$$f(x) - P_n(x) \\leq \\frac{f^{(n+1)} (\\xi)}{(n+1)!}\\ \\omega_n(x), \\quad \\xi \\in (-1,1) \\text{ and } \\omega_n(x) := \\prod_{i = 0}^{n} (x - x_i).$$\n",
    "\n",
    "So __Chebyshev Nodes__ is logical to try to minimize\n",
    "\n",
    "$$\\max_{-1 \\leq x \\leq 1}\\ |\\omega_n(x)|.$$\n",
    "\n",
    "This product is a monic polynomial of degree $n$.\n",
    "\n",
    "It may be shown that the maximum absolute value of any such polynomial is bounded from below by $2^{1 - n}$.\n",
    "\n",
    "This bound is attained by the scaled Chebyshev polynomials $2^{1 - n} T_n(x)$, which are also monic.\n",
    "\n",
    "Therefore, when the interpolation nodes $x_i$ are the roots of $T_n(x)$, the error satisfies\n",
    "\n",
    "$$|f(x) - P_n(x)| \\leq \\frac{1}{2^n\\ (n+1)!}\\ \\max_{-1 \\leq \\xi \\leq 1} \\left| f^{(n+1)} (\\xi) \\right|.$$\n",
    "\n",
    "For an arbitrary interval $[a, b]$ a change of variable shows that\n",
    "\n",
    "$$|f(x) - P_n(x)| \\leq \\frac{1}{2^n\\ (n+1)!}\\ \\left( \\frac{b - a}{2} \\right)^{n+1}\\ \\max_{a \\leq \\xi \\leq b} \\left| f^{(n+1)} (\\xi) \\right|.$$\n",
    "\n",
    "### <span style=\"color:red\"> __*Compare with the error bound in Runge's Phenomenon, that's why Chebyshev Nodes will be better when computing high-degree polynomial interpolation.*__ </span>"
   ]
  },
  {
   "cell_type": "markdown",
   "metadata": {
    "deletable": false,
    "editable": false,
    "nbgrader": {
     "cell_type": "markdown",
     "checksum": "71419ec133b6c327936068862a6d35d9",
     "grade": false,
     "grade_id": "cell-9b8c480d56bc6f57",
     "locked": true,
     "schema_version": 3,
     "solution": false,
     "task": false
    }
   },
   "source": [
    "### Plot error of $P_{5}(x), P_{10}(x)$ and $P_{15}(x)$"
   ]
  },
  {
   "cell_type": "code",
   "execution_count": null,
   "metadata": {
    "deletable": false,
    "editable": false,
    "nbgrader": {
     "cell_type": "code",
     "checksum": "f0218bbd4fd635cddda5191276ddab8a",
     "grade": false,
     "grade_id": "cell-e14db6acba2a0fa2",
     "locked": true,
     "schema_version": 3,
     "solution": false,
     "task": false
    }
   },
   "outputs": [],
   "source": [
    "x_range = np.arange(-1, 1, 0.01)\n",
    "fig, ax = plt.subplots(figsize=(16, 9))\n",
    "\n",
    "# Plot error of P1(x)\n",
    "ax.plot(x_range, abs(P_5(x_range) - f(x_range)), color='y', label='$|P_{5}(x) - f(x)|$')\n",
    "\n",
    "# Plot error of P2(x)\n",
    "ax.plot(x_range, abs(P_10(x_range) - f(x_range)), color='b', label='$|P_{10}(x) - f(x)|$')\n",
    "\n",
    "# Plot error of P3(x)\n",
    "ax.plot(x_range, abs(P_15(x_range) - f(x_range)), color='g', label='$|P_{15}(x) - f(x)|$')\n",
    "\n",
    "# Add other text and items\n",
    "ax.set_title(r'Error of $P_{5}(x), P_{10}(x)$ and $P_{15}(x)$')\n",
    "plt.legend(loc='lower right')\n",
    "ax.grid(True)\n",
    "ax.axhline(y=0)\n",
    "ax.axvline(x=0)\n",
    "plt.show()"
   ]
  }
 ],
 "metadata": {
  "kernelspec": {
   "display_name": "Python 3",
   "language": "python",
   "name": "python3"
  },
  "language_info": {
   "codemirror_mode": {
    "name": "ipython",
    "version": 3
   },
   "file_extension": ".py",
   "mimetype": "text/x-python",
   "name": "python",
   "nbconvert_exporter": "python",
   "pygments_lexer": "ipython3",
   "version": "3.7.3"
  }
 },
 "nbformat": 4,
 "nbformat_minor": 2
}
